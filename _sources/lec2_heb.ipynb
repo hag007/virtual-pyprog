{
 "cells": [
  {
   "cell_type": "code",
   "execution_count": 46,
   "id": "a963dd87-64df-40b1-8143-2fecb6fca0a9",
   "metadata": {
    "tags": [
     "hide--input"
    ]
   },
   "outputs": [
    {
     "data": {
      "text/html": [
       "<!-- RTL Fix the jupyter notebook 7  -->\n",
       "<style>\n",
       "    .jp-RenderedHTMLCommon {\n",
       "        padding-top: 2em !important;\n",
       "  }   \n",
       "    .jp-RenderedHTMLCommon, .jp-RenderedHTMLCommon * {\n",
       "        direction: rtl !important; \n",
       "        text-align:right !important; \n",
       "  }\n",
       "    .jp-MarkdownCell .jp-InputArea-editor {\n",
       "        direction: rtl !important; \n",
       "        text-align:right !important;\n",
       "        padding-top: 2em !important;\n",
       "  } \n",
       "\n",
       "    .jp-RenderedHTMLCommon code, .jp-RenderedHTMLCommon code span {\n",
       "        text-align:left !important;\n",
       "        direction: ltr !important;\n",
       "        unicode-bidi: embed !important;\n",
       "    }\n",
       "    .jp-RenderedHTMLCommon p mjx-math {\n",
       "        direction: ltr !important;\n",
       "    }\n",
       "    .jp-RenderedHTMLCommon p:has(mjx-math) {\n",
       "        text-align:center !important;\n",
       "    }\n",
       "    .jp-RenderedHTMLCommon pre:has(code) {\n",
       "      direction: ltr !important;\n",
       "      text-align: left!important;\n",
       "    }\n",
       "\n",
       "</style> \n"
      ],
      "text/plain": [
       "<IPython.core.display.HTML object>"
      ]
     },
     "metadata": {},
     "output_type": "display_data"
    }
   ],
   "source": [
    "%%html\n",
    "<!-- RTL Fix the jupyter notebook 7  -->\n",
    "<style>\n",
    "    .jp-RenderedHTMLCommon {\n",
    "        padding-top: 2em !important;\n",
    "  }   \n",
    "    .jp-RenderedHTMLCommon, .jp-RenderedHTMLCommon * {\n",
    "        direction: rtl !important; \n",
    "        text-align:right !important; \n",
    "  }\n",
    "    .jp-MarkdownCell .jp-InputArea-editor {\n",
    "        direction: rtl !important; \n",
    "        text-align:right !important;\n",
    "        padding-top: 2em !important;\n",
    "  } \n",
    "\n",
    "    .jp-RenderedHTMLCommon code, .jp-RenderedHTMLCommon code span {\n",
    "        text-align:left !important;\n",
    "        direction: ltr !important;\n",
    "        unicode-bidi: embed !important;\n",
    "    }\n",
    "    .jp-RenderedHTMLCommon p mjx-math {\n",
    "        direction: ltr !important;\n",
    "    }\n",
    "    .jp-RenderedHTMLCommon p:has(mjx-math) {\n",
    "        text-align:center !important;\n",
    "    }\n",
    "    .jp-RenderedHTMLCommon pre:has(code) {\n",
    "      direction: ltr !important;\n",
    "      text-align: left!important;\n",
    "    }\n",
    "\n",
    "</style> "
   ]
  },
  {
   "cell_type": "code",
   "execution_count": 7,
   "id": "3018be7d-8134-4a5a-981d-289f2a7cdfc7",
   "metadata": {
    "tags": [
     "hide--input"
    ]
   },
   "outputs": [
    {
     "data": {
      "text/html": [
       "<script>\n",
       "(function() {\n",
       "  // Create the toggle button\n",
       "  const rtlButton = document.createElement(\"button\");\n",
       "  rtlButton.textContent = \"Toggle LTR\";\n",
       "  rtlButton.id = \"top-rtl-toggle\";\n",
       "  rtlButton.style.marginLeft = \"8px\";\n",
       "  rtlButton.style.padding = \"4px 10px\";\n",
       "  rtlButton.style.fontSize = \"14px\";\n",
       "  rtlButton.style.cursor = \"pointer\";\n",
       "\n",
       "  // State\n",
       "  var rtlActive = false;\n",
       "\n",
       "  // Styling function\n",
       "  var applyStyleToEditor = (editor) => {\n",
       "    if (!editor) return;\n",
       "    var direction = getComputedStyle(editor).getPropertyValue('direction')=='rtl' ? 'ltr' : 'rtl';\n",
       "    var text_align = getComputedStyle(editor).getPropertyValue('text-align')=='right' ? 'left' : 'right';\n",
       "    editor.style.setProperty('direction', direction, 'important');\n",
       "    editor.style.setProperty('text-align', text_align, 'important');\n",
       "  };\n",
       "\n",
       "  // Toggle logic\n",
       "  rtlButton.onclick = () => {\n",
       "    rtlActive = !rtlActive;\n",
       "    rtlButton.textContent = rtlActive ? \"Toggle LTR\" : \"Toggle RTL\";\n",
       "    document.querySelectorAll('.jp-MarkdownCell .jp-InputArea-editor').forEach(applyStyleToEditor);\n",
       "    document.querySelectorAll('.jp-RenderedHTMLCommon code, .jp-RenderedHTMLCommon code span').forEach(applyStyleToEditor);\n",
       "    document.querySelectorAll('jp-RenderedHTMLCommon, .jp-RenderedHTMLCommon *').forEach(applyStyleToEditor);\n",
       "  };\n",
       "\n",
       "  // Watch for focus into editing Markdown cells\n",
       "  // document.addEventListener('focusin', (event) => {\n",
       "  //   const editor = event.target.closest('.jp-MarkdownCell .jp-InputArea-editor');\n",
       "  //    if (editor) applyStyleToEditor(editor);\n",
       "  // });\n",
       "\n",
       "  // Insert into top toolbar if not already present\n",
       "  var insertIntoToolbar = () => {\n",
       "    const toolbar = document.querySelector('.jp-NotebookPanel-toolbar');\n",
       "    if (toolbar && !document.getElementById(\"top-rtl-toggle\")) {\n",
       "      toolbar.appendChild(rtlButton);\n",
       "    } else {\n",
       "      // Try again in a moment if toolbar isn't ready yet\n",
       "      setTimeout(insertIntoToolbar, 300);\n",
       "    }\n",
       "  };\n",
       "\n",
       "  insertIntoToolbar();\n",
       "})();\n",
       "</script>\n"
      ],
      "text/plain": [
       "<IPython.core.display.HTML object>"
      ]
     },
     "metadata": {},
     "output_type": "display_data"
    }
   ],
   "source": [
    "%%html\n",
    "<script>\n",
    "(function() {\n",
    "  // Create the toggle button\n",
    "  const rtlButton = document.createElement(\"button\");\n",
    "  rtlButton.textContent = \"Toggle LTR\";\n",
    "  rtlButton.id = \"top-rtl-toggle\";\n",
    "  rtlButton.style.marginLeft = \"8px\";\n",
    "  rtlButton.style.padding = \"4px 10px\";\n",
    "  rtlButton.style.fontSize = \"14px\";\n",
    "  rtlButton.style.cursor = \"pointer\";\n",
    "\n",
    "  // State\n",
    "  var rtlActive = false;\n",
    "\n",
    "  // Styling function\n",
    "  var applyStyleToEditor = (editor) => {\n",
    "    if (!editor) return;\n",
    "    var direction = getComputedStyle(editor).getPropertyValue('direction')=='rtl' ? 'ltr' : 'rtl';\n",
    "    var text_align = getComputedStyle(editor).getPropertyValue('text-align')=='right' ? 'left' : 'right';\n",
    "    editor.style.setProperty('direction', direction, 'important');\n",
    "    editor.style.setProperty('text-align', text_align, 'important');\n",
    "  };\n",
    "\n",
    "  // Toggle logic\n",
    "  rtlButton.onclick = () => {\n",
    "    rtlActive = !rtlActive;\n",
    "    rtlButton.textContent = rtlActive ? \"Toggle LTR\" : \"Toggle RTL\";\n",
    "    document.querySelectorAll('.jp-MarkdownCell .jp-InputArea-editor').forEach(applyStyleToEditor);\n",
    "    document.querySelectorAll('.jp-RenderedHTMLCommon code, .jp-RenderedHTMLCommon code span').forEach(applyStyleToEditor);\n",
    "    document.querySelectorAll('jp-RenderedHTMLCommon, .jp-RenderedHTMLCommon *').forEach(applyStyleToEditor);\n",
    "  };\n",
    "\n",
    "  // Watch for focus into editing Markdown cells\n",
    "  // document.addEventListener('focusin', (event) => {\n",
    "  //   const editor = event.target.closest('.jp-MarkdownCell .jp-InputArea-editor');\n",
    "  //    if (editor) applyStyleToEditor(editor);\n",
    "  // });\n",
    "\n",
    "  // Insert into top toolbar if not already present\n",
    "  var insertIntoToolbar = () => {\n",
    "    const toolbar = document.querySelector('.jp-NotebookPanel-toolbar');\n",
    "    if (toolbar && !document.getElementById(\"top-rtl-toggle\")) {\n",
    "      toolbar.appendChild(rtlButton);\n",
    "    } else {\n",
    "      // Try again in a moment if toolbar isn't ready yet\n",
    "      setTimeout(insertIntoToolbar, 300);\n",
    "    }\n",
    "  };\n",
    "\n",
    "  insertIntoToolbar();\n",
    "})();\n",
    "</script>"
   ]
  },
  {
   "cell_type": "markdown",
   "id": "ec672a95",
   "metadata": {
    "slideshow": {
     "slide_type": "slide"
    }
   },
   "source": [
    "# רשימות, טווחים, ולולאות\n",
    "\n",
    "## תכנות פייתון למהנדסים  \n",
    "### אוניברסיטת תל אביב / 0509-1820 / אביב 2025"
   ]
  },
  {
   "cell_type": "markdown",
   "id": "8795e0c2",
   "metadata": {
    "slideshow": {
     "slide_type": "slide"
    }
   },
   "source": [
    "## סדר היום להיום\n",
    "\n",
    "- `list`  \n",
    "- `range`  \n",
    "- לולאות  \n",
    "    - `while`  \n",
    "    - `for`"
   ]
  },
  {
   "cell_type": "markdown",
   "id": "1f1a2fb0",
   "metadata": {
    "slideshow": {
     "slide_type": "slide"
    }
   },
   "source": [
    "# רשימות"
   ]
  },
  {
   "cell_type": "markdown",
   "id": "5a59e45f",
   "metadata": {
    "slideshow": {
     "slide_type": "fragment"
    }
   },
   "source": [
    "- רשימה היא רצף מסודר של איברים.  \n",
    "- יצירת רשימה בפייתון:"
   ]
  },
  {
   "cell_type": "code",
   "execution_count": null,
   "id": "13f36093",
   "metadata": {
    "execution": {
     "iopub.execute_input": "2025-03-10T07:46:14.931295Z",
     "iopub.status.busy": "2025-03-10T07:46:14.930257Z",
     "iopub.status.idle": "2025-03-10T07:46:14.945711Z",
     "shell.execute_reply": "2025-03-10T07:46:14.944744Z"
    },
    "slideshow": {
     "slide_type": "fragment"
    }
   },
   "outputs": [],
   "source": [
    "my_list = [2, 3, 5, 7, 11]\n",
    "my_list"
   ]
  },
  {
   "cell_type": "code",
   "execution_count": null,
   "id": "dc999f98",
   "metadata": {
    "execution": {
     "iopub.execute_input": "2025-03-10T07:46:14.949169Z",
     "iopub.status.busy": "2025-03-10T07:46:14.948639Z",
     "iopub.status.idle": "2025-03-10T07:46:14.954244Z",
     "shell.execute_reply": "2025-03-10T07:46:14.953424Z"
    },
    "slideshow": {
     "slide_type": "fragment"
    }
   },
   "outputs": [],
   "source": [
    "days = [\"Sun\", \"Mon\", \"Tue\", \"Wed\", \"Thu\", \"Fri\", \"Sat\"]\n",
    "days"
   ]
  },
  {
   "cell_type": "code",
   "execution_count": null,
   "id": "3bfb1a14",
   "metadata": {
    "execution": {
     "iopub.execute_input": "2025-03-10T07:46:14.957330Z",
     "iopub.status.busy": "2025-03-10T07:46:14.957027Z",
     "iopub.status.idle": "2025-03-10T07:46:14.962255Z",
     "shell.execute_reply": "2025-03-10T07:46:14.961383Z"
    },
    "slideshow": {
     "slide_type": "fragment"
    }
   },
   "outputs": [],
   "source": [
    "pi = ['pi', 3.14159, True]\n",
    "pi"
   ]
  },
  {
   "cell_type": "markdown",
   "id": "efd88c3f",
   "metadata": {
    "slideshow": {
     "slide_type": "subslide"
    }
   },
   "source": [
    "זוכרים את זה?\n",
    "\n",
    "<img width=300 height=200 src='data:image/png;base64,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'>\n",
    "\n",
    "####  אינדקסים וחיתוך (slicing) חלים גם על רשימות\n"
   ]
  },
  {
   "cell_type": "markdown",
   "id": "344e1bc1",
   "metadata": {
    "slideshow": {
     "slide_type": "subslide"
    }
   },
   "source": [
    "### גישה לרשימה באמצעות אינדקס"
   ]
  },
  {
   "cell_type": "code",
   "execution_count": null,
   "id": "e6f1d35f",
   "metadata": {
    "execution": {
     "iopub.execute_input": "2025-03-10T07:46:14.965706Z",
     "iopub.status.busy": "2025-03-10T07:46:14.965185Z",
     "iopub.status.idle": "2025-03-10T07:46:14.969347Z",
     "shell.execute_reply": "2025-03-10T07:46:14.968372Z"
    },
    "slideshow": {
     "slide_type": "fragment"
    }
   },
   "outputs": [],
   "source": [
    "my_list = [2, 3, 5, 7, 11]"
   ]
  },
  {
   "cell_type": "code",
   "execution_count": null,
   "id": "ed1e4644",
   "metadata": {
    "execution": {
     "iopub.execute_input": "2025-03-10T07:46:14.972539Z",
     "iopub.status.busy": "2025-03-10T07:46:14.972014Z",
     "iopub.status.idle": "2025-03-10T07:46:14.976719Z",
     "shell.execute_reply": "2025-03-10T07:46:14.975912Z"
    },
    "slideshow": {
     "slide_type": "fragment"
    }
   },
   "outputs": [],
   "source": [
    "print(my_list[0])\n",
    "print(my_list[4])\n",
    "print(my_list[-3])"
   ]
  },
  {
   "cell_type": "code",
   "execution_count": null,
   "id": "ec0cea9f",
   "metadata": {
    "execution": {
     "iopub.execute_input": "2025-03-10T07:46:14.979867Z",
     "iopub.status.busy": "2025-03-10T07:46:14.979353Z",
     "iopub.status.idle": "2025-03-10T07:46:16.457002Z",
     "shell.execute_reply": "2025-03-10T07:46:16.456004Z"
    },
    "slideshow": {
     "slide_type": "fragment"
    },
    "tags": [
     "raises-exception"
    ]
   },
   "outputs": [],
   "source": [
    "my_list[5]"
   ]
  },
  {
   "cell_type": "markdown",
   "id": "e78ba379-09e4-4d86-8e4c-ba70e65ca9b2",
   "metadata": {},
   "source": [
    "### חיתוך (Slicing)"
   ]
  },
  {
   "cell_type": "markdown",
   "id": "43136bbe",
   "metadata": {
    "slideshow": {
     "slide_type": "fragment"
    }
   },
   "source": [
    "- מחזיר רשימה חדשה\n",
    "\n",
    "<img width=600, height=200 src=\"data:image/png;base64,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\">"
   ]
  },
  {
   "cell_type": "code",
   "execution_count": null,
   "id": "81aa4806",
   "metadata": {
    "execution": {
     "iopub.execute_input": "2025-03-10T07:46:16.461427Z",
     "iopub.status.busy": "2025-03-10T07:46:16.461124Z",
     "iopub.status.idle": "2025-03-10T07:46:16.465260Z",
     "shell.execute_reply": "2025-03-10T07:46:16.464587Z"
    },
    "slideshow": {
     "slide_type": "fragment"
    }
   },
   "outputs": [],
   "source": [
    "my_list = [1,2,3,4,5,6,7,8,9,10]"
   ]
  },
  {
   "cell_type": "code",
   "execution_count": null,
   "id": "422be6e4",
   "metadata": {
    "execution": {
     "iopub.execute_input": "2025-03-10T07:46:16.468037Z",
     "iopub.status.busy": "2025-03-10T07:46:16.467721Z",
     "iopub.status.idle": "2025-03-10T07:46:16.471698Z",
     "shell.execute_reply": "2025-03-10T07:46:16.470972Z"
    },
    "slideshow": {
     "slide_type": "fragment"
    }
   },
   "outputs": [],
   "source": [
    "print(my_list[1:5]) # slicing"
   ]
  },
  {
   "cell_type": "code",
   "execution_count": null,
   "id": "b0c4bfcc",
   "metadata": {
    "execution": {
     "iopub.execute_input": "2025-03-10T07:46:16.474475Z",
     "iopub.status.busy": "2025-03-10T07:46:16.474166Z",
     "iopub.status.idle": "2025-03-10T07:46:16.478139Z",
     "shell.execute_reply": "2025-03-10T07:46:16.477405Z"
    },
    "slideshow": {
     "slide_type": "fragment"
    }
   },
   "outputs": [],
   "source": [
    "print(my_list[0:-1]) # forward/backward indexing"
   ]
  },
  {
   "cell_type": "code",
   "execution_count": null,
   "id": "516f1895",
   "metadata": {
    "execution": {
     "iopub.execute_input": "2025-03-10T07:46:16.480763Z",
     "iopub.status.busy": "2025-03-10T07:46:16.480457Z",
     "iopub.status.idle": "2025-03-10T07:46:16.484305Z",
     "shell.execute_reply": "2025-03-10T07:46:16.483568Z"
    },
    "slideshow": {
     "slide_type": "fragment"
    }
   },
   "outputs": [],
   "source": [
    "print(my_list[::2]) # add a step"
   ]
  },
  {
   "cell_type": "code",
   "execution_count": null,
   "id": "0d5ee88c",
   "metadata": {
    "execution": {
     "iopub.execute_input": "2025-03-10T07:46:16.487061Z",
     "iopub.status.busy": "2025-03-10T07:46:16.486758Z",
     "iopub.status.idle": "2025-03-10T07:46:16.490540Z",
     "shell.execute_reply": "2025-03-10T07:46:16.489879Z"
    },
    "slideshow": {
     "slide_type": "subslide"
    }
   },
   "outputs": [],
   "source": [
    "print(my_list[::-1]) # reverse"
   ]
  },
  {
   "cell_type": "code",
   "execution_count": null,
   "id": "04d8b0a6",
   "metadata": {
    "execution": {
     "iopub.execute_input": "2025-03-10T07:46:16.493235Z",
     "iopub.status.busy": "2025-03-10T07:46:16.492933Z",
     "iopub.status.idle": "2025-03-10T07:46:16.496851Z",
     "shell.execute_reply": "2025-03-10T07:46:16.496122Z"
    },
    "slideshow": {
     "slide_type": "fragment"
    }
   },
   "outputs": [],
   "source": [
    "print(my_list[3:8:-2]) # output is an empty list. This is NOT an error"
   ]
  },
  {
   "cell_type": "code",
   "execution_count": null,
   "id": "3f756f73",
   "metadata": {
    "execution": {
     "iopub.execute_input": "2025-03-10T07:46:16.499664Z",
     "iopub.status.busy": "2025-03-10T07:46:16.499360Z",
     "iopub.status.idle": "2025-03-10T07:46:16.503084Z",
     "shell.execute_reply": "2025-03-10T07:46:16.502426Z"
    },
    "slideshow": {
     "slide_type": "fragment"
    }
   },
   "outputs": [],
   "source": [
    "print(my_list) # slicing does NOT change original list!"
   ]
  },
  {
   "cell_type": "markdown",
   "id": "162cee3c",
   "metadata": {
    "slideshow": {
     "slide_type": "subslide"
    }
   },
   "source": [
    "### חיתוך (Slicing): דוגמאות נוספות"
   ]
  },
  {
   "cell_type": "code",
   "execution_count": null,
   "id": "c7408ec7",
   "metadata": {
    "execution": {
     "iopub.execute_input": "2025-03-10T07:46:16.505761Z",
     "iopub.status.busy": "2025-03-10T07:46:16.505458Z",
     "iopub.status.idle": "2025-03-10T07:46:16.509051Z",
     "shell.execute_reply": "2025-03-10T07:46:16.508335Z"
    },
    "slideshow": {
     "slide_type": "fragment"
    }
   },
   "outputs": [],
   "source": [
    "my_list = [1, 2, 3, 4, 5]\n",
    "new_list = my_list[::2]"
   ]
  },
  {
   "cell_type": "code",
   "execution_count": null,
   "id": "226402ab",
   "metadata": {
    "execution": {
     "iopub.execute_input": "2025-03-10T07:46:16.511870Z",
     "iopub.status.busy": "2025-03-10T07:46:16.511411Z",
     "iopub.status.idle": "2025-03-10T07:46:16.515857Z",
     "shell.execute_reply": "2025-03-10T07:46:16.515132Z"
    },
    "slideshow": {
     "slide_type": "fragment"
    }
   },
   "outputs": [],
   "source": [
    "print(new_list)"
   ]
  },
  {
   "cell_type": "code",
   "execution_count": null,
   "id": "ea588b26",
   "metadata": {
    "execution": {
     "iopub.execute_input": "2025-03-10T07:46:16.519277Z",
     "iopub.status.busy": "2025-03-10T07:46:16.518401Z",
     "iopub.status.idle": "2025-03-10T07:46:16.522864Z",
     "shell.execute_reply": "2025-03-10T07:46:16.522139Z"
    },
    "slideshow": {
     "slide_type": "fragment"
    }
   },
   "outputs": [],
   "source": [
    "print(my_list)"
   ]
  },
  {
   "cell_type": "markdown",
   "id": "e5225f4c-a543-4ce6-b672-85ba4724db70",
   "metadata": {},
   "source": [
    "### רשימות הן בנות שינוי (mutable)\n",
    "\n",
    "תזכורת:\n",
    "- **mutable (בת שינוי)** – ניתן לשנות את ערך המשתנה לאחר יצירתו\n",
    "- **immutable (בלתי־ניתן לשינוי)** – לא ניתן לשנות את ערך המשתנה לאחר יצירתו  \n",
    "    - ניתן לשכפל ולהחליף אותו בערך אחר"
   ]
  },
  {
   "cell_type": "code",
   "execution_count": null,
   "id": "897d5eb0",
   "metadata": {
    "execution": {
     "iopub.execute_input": "2025-03-10T07:46:16.526042Z",
     "iopub.status.busy": "2025-03-10T07:46:16.525419Z",
     "iopub.status.idle": "2025-03-10T07:46:16.529298Z",
     "shell.execute_reply": "2025-03-10T07:46:16.528635Z"
    },
    "slideshow": {
     "slide_type": "fragment"
    }
   },
   "outputs": [],
   "source": [
    "hello_list = ['h','e','l','l','o']\n",
    "hello_str='hello'"
   ]
  },
  {
   "cell_type": "code",
   "execution_count": null,
   "id": "3f30d49b",
   "metadata": {
    "execution": {
     "iopub.execute_input": "2025-03-10T07:46:16.532453Z",
     "iopub.status.busy": "2025-03-10T07:46:16.531794Z",
     "iopub.status.idle": "2025-03-10T07:46:16.536374Z",
     "shell.execute_reply": "2025-03-10T07:46:16.535632Z"
    },
    "slideshow": {
     "slide_type": "fragment"
    },
    "tags": [
     "raises-exception"
    ]
   },
   "outputs": [],
   "source": [
    "hello_str_new='hello'+'!'\n",
    "print('hello_str: ', hello_str)\n",
    "print('hello_str_new: ', hello_str_new)"
   ]
  },
  {
   "cell_type": "markdown",
   "id": "7ec865d2",
   "metadata": {
    "slideshow": {
     "slide_type": "subslide"
    }
   },
   "source": [
    "### מה מחזיר `append`?"
   ]
  },
  {
   "cell_type": "code",
   "execution_count": null,
   "id": "3a203920",
   "metadata": {
    "execution": {
     "iopub.execute_input": "2025-03-10T07:46:16.539548Z",
     "iopub.status.busy": "2025-03-10T07:46:16.538900Z",
     "iopub.status.idle": "2025-03-10T07:46:16.543605Z",
     "shell.execute_reply": "2025-03-10T07:46:16.542881Z"
    },
    "slideshow": {
     "slide_type": "fragment"
    }
   },
   "outputs": [],
   "source": [
    "hello_list = ['h','e','l','l','o']\n",
    "hello_list_new=hello_list.append('!')\n",
    "print(hello_list)"
   ]
  },
  {
   "cell_type": "code",
   "execution_count": null,
   "id": "531b9fbc",
   "metadata": {
    "execution": {
     "iopub.execute_input": "2025-03-10T07:46:16.546551Z",
     "iopub.status.busy": "2025-03-10T07:46:16.545961Z",
     "iopub.status.idle": "2025-03-10T07:46:16.550155Z",
     "shell.execute_reply": "2025-03-10T07:46:16.549428Z"
    },
    "slideshow": {
     "slide_type": "fragment"
    }
   },
   "outputs": [],
   "source": [
    "print(hello_list_new)"
   ]
  },
  {
   "cell_type": "markdown",
   "id": "0ee77dd8",
   "metadata": {
    "slideshow": {
     "slide_type": "fragment"
    }
   },
   "source": [
    " ההרשמה לאחר `append` מיותרת\n"
   ]
  },
  {
   "cell_type": "code",
   "execution_count": null,
   "id": "4ed726a4",
   "metadata": {
    "execution": {
     "iopub.execute_input": "2025-03-10T07:46:16.553178Z",
     "iopub.status.busy": "2025-03-10T07:46:16.552591Z",
     "iopub.status.idle": "2025-03-10T07:46:16.556828Z",
     "shell.execute_reply": "2025-03-10T07:46:16.556142Z"
    },
    "slideshow": {
     "slide_type": "fragment"
    }
   },
   "outputs": [],
   "source": [
    "hello_list = ['h','e','l','l','o']\n",
    "hello_list.append('!')\n",
    "print(hello_list)"
   ]
  },
  {
   "cell_type": "markdown",
   "id": "7994643b",
   "metadata": {
    "slideshow": {
     "slide_type": "subslide"
    }
   },
   "source": [
    "#### כלל אצבע: אם מתודה משנה אובייקט, היא כנראה לא תחזיר אותו"
   ]
  },
  {
   "cell_type": "markdown",
   "id": "567e2717",
   "metadata": {
    "slideshow": {
     "slide_type": "subslide"
    }
   },
   "source": [
    "### `remove`: הסרת איבר מרשימה"
   ]
  },
  {
   "cell_type": "markdown",
   "id": "c2cdbadb",
   "metadata": {
    "slideshow": {
     "slide_type": "fragment"
    }
   },
   "source": [
    "המתודה מסירה את האיבר הראשון המתאים לערך שהועבר בקלט"
   ]
  },
  {
   "cell_type": "code",
   "execution_count": null,
   "id": "a894f94d",
   "metadata": {
    "execution": {
     "iopub.execute_input": "2025-03-10T07:46:16.560235Z",
     "iopub.status.busy": "2025-03-10T07:46:16.559418Z",
     "iopub.status.idle": "2025-03-10T07:46:16.582575Z",
     "shell.execute_reply": "2025-03-10T07:46:16.581678Z"
    },
    "slideshow": {
     "slide_type": "fragment"
    },
    "tags": [
     "raises-exception"
    ]
   },
   "outputs": [],
   "source": [
    "hello_list = ['h','e','l','l','o']\n",
    "hello_list.remove('e')\n",
    "print(hello_list)\n",
    "hello_list.remove('e')\n",
    "print(hello_list)"
   ]
  },
  {
   "cell_type": "markdown",
   "id": "9532ff07",
   "metadata": {
    "slideshow": {
     "slide_type": "subslide"
    }
   },
   "source": [
    "### `pop`: חילוץ איבר מרשימה"
   ]
  },
  {
   "cell_type": "markdown",
   "id": "54931033",
   "metadata": {
    "slideshow": {
     "slide_type": "fragment"
    }
   },
   "source": [
    "המתודה `pop` מחלצת את איבר מרשימה לפי אינדקס **ומתחזירה אותו**"
   ]
  },
  {
   "cell_type": "code",
   "execution_count": null,
   "id": "8efee7df",
   "metadata": {
    "execution": {
     "iopub.execute_input": "2025-03-10T07:46:16.585769Z",
     "iopub.status.busy": "2025-03-10T07:46:16.585422Z",
     "iopub.status.idle": "2025-03-10T07:46:16.590570Z",
     "shell.execute_reply": "2025-03-10T07:46:16.589661Z"
    },
    "slideshow": {
     "slide_type": "fragment"
    },
    "tags": []
   },
   "outputs": [],
   "source": [
    "hello_list = ['h','e','l','l','o']\n",
    "res=hello_list.pop(0)\n",
    "print(hello_list, res)\n",
    "hello_list.pop() # Note that here we do not assign the popped element to res\n",
    "print(hello_list, res)"
   ]
  },
  {
   "cell_type": "markdown",
   "id": "9af03576-346d-47db-98cd-2494b2a3d526",
   "metadata": {},
   "source": [
    "### רשימות מקוננות"
   ]
  },
  {
   "cell_type": "code",
   "execution_count": null,
   "id": "1a12caea",
   "metadata": {
    "execution": {
     "iopub.execute_input": "2025-03-10T07:46:16.593668Z",
     "iopub.status.busy": "2025-03-10T07:46:16.593045Z",
     "iopub.status.idle": "2025-03-10T07:46:16.598580Z",
     "shell.execute_reply": "2025-03-10T07:46:16.597751Z"
    },
    "slideshow": {
     "slide_type": "fragment"
    },
    "tags": []
   },
   "outputs": [],
   "source": [
    "mat = [[1, 2, 3], [4, 5, 6]]\n",
    "mat[1]"
   ]
  },
  {
   "cell_type": "code",
   "execution_count": null,
   "id": "3088bc7d",
   "metadata": {
    "execution": {
     "iopub.execute_input": "2025-03-10T07:46:16.601897Z",
     "iopub.status.busy": "2025-03-10T07:46:16.601214Z",
     "iopub.status.idle": "2025-03-10T07:46:16.606831Z",
     "shell.execute_reply": "2025-03-10T07:46:16.606003Z"
    },
    "slideshow": {
     "slide_type": "fragment"
    }
   },
   "outputs": [],
   "source": [
    "mat[1][2]"
   ]
  },
  {
   "cell_type": "code",
   "execution_count": null,
   "id": "263634e4",
   "metadata": {
    "execution": {
     "iopub.execute_input": "2025-03-10T07:46:16.610190Z",
     "iopub.status.busy": "2025-03-10T07:46:16.609508Z",
     "iopub.status.idle": "2025-03-10T07:46:16.613882Z",
     "shell.execute_reply": "2025-03-10T07:46:16.612975Z"
    },
    "slideshow": {
     "slide_type": "fragment"
    }
   },
   "outputs": [],
   "source": [
    "print(len(mat), len(mat[0]))"
   ]
  },
  {
   "cell_type": "markdown",
   "id": "d197e13a",
   "metadata": {
    "slideshow": {
     "slide_type": "subslide"
    }
   },
   "source": [
    "### דוגמה: פלינדרום\n",
    "\n",
    "פלינדרום הוא מחרוזת שנקראת אותו דבר מההתחלה לסוף ומהסוף להתחלה \n",
    "- 21.11.12\n",
    "- alula\n",
    "- anna\n",
    "- deified"
   ]
  },
  {
   "cell_type": "markdown",
   "id": "e32ad245",
   "metadata": {
    "slideshow": {
     "slide_type": "subslide"
    }
   },
   "source": [
    "כתוב **פונקציה** שמחזירה True אם מחרוזת נתונה היא פלינדרום, אחרת False."
   ]
  },
  {
   "cell_type": "markdown",
   "id": "b03ae43e",
   "metadata": {
    "slideshow": {
     "slide_type": "fragment"
    }
   },
   "source": [
    "### דוגמה: פלינדרום (המשך)  \n",
    "נתחיל בתיאור מילולי של התוכנית שלנו שורה-שורה (פסאודו-קוד).\n",
    "\n",
    "- עבור כל אינדקס במחרוזת:\n",
    "    - בדוק אם התו במקום ה־i שווה לתו במקום (n−i−1)\n",
    "    - אם לא — החזר False (זו לא מחרוזת פלינדרום)\n",
    "- אם כל האינדקסים נבדקו — זוהי מחרוזת פלינדרום"
   ]
  },
  {
   "cell_type": "markdown",
   "id": "7f3daeb1",
   "metadata": {
    "slideshow": {
     "slide_type": "subslide"
    }
   },
   "source": [
    "כעת בקוד..."
   ]
  },
  {
   "cell_type": "code",
   "execution_count": null,
   "id": "e768f00c",
   "metadata": {
    "execution": {
     "iopub.execute_input": "2025-03-10T07:46:16.679478Z",
     "iopub.status.busy": "2025-03-10T07:46:16.679109Z",
     "iopub.status.idle": "2025-03-10T07:46:16.683464Z",
     "shell.execute_reply": "2025-03-10T07:46:16.682623Z"
    },
    "slideshow": {
     "slide_type": "fragment"
    }
   },
   "outputs": [],
   "source": [
    "def is_palindrome(text):\n",
    "    return text == text[::-1]"
   ]
  },
  {
   "cell_type": "code",
   "execution_count": null,
   "id": "c8516119",
   "metadata": {
    "execution": {
     "iopub.execute_input": "2025-03-10T07:46:16.686744Z",
     "iopub.status.busy": "2025-03-10T07:46:16.686164Z",
     "iopub.status.idle": "2025-03-10T07:46:16.690650Z",
     "shell.execute_reply": "2025-03-10T07:46:16.689753Z"
    },
    "slideshow": {
     "slide_type": "fragment"
    }
   },
   "outputs": [],
   "source": [
    "print(is_palindrome('abba'))\n",
    "print(is_palindrome('abbc'))"
   ]
  },
  {
   "cell_type": "markdown",
   "id": "da3cd1ab",
   "metadata": {
    "slideshow": {
     "slide_type": "fragment"
    }
   },
   "source": [
    "### שיטות שימושיות של רשימות"
   ]
  },
  {
   "cell_type": "markdown",
   "id": "072acf72",
   "metadata": {
    "slideshow": {
     "slide_type": "subslide"
    }
   },
   "source": [
    "- `append`: מוסיף איבר לסוף הרשימה  \n",
    "- `insert`: מוסיף איבר במיקום מסוים  \n",
    "- `pop`: מסיר ומחזיר איבר  \n",
    "- `remove`: מסיר איבר לפי ערך  \n",
    "- `index`: מחזיר את המיקום של איבר ראשון שמופיע  \n",
    "- `count`: סופר את מספר ההופעות של איבר  \n",
    "- `sort`: ממיין את הרשימה  \n",
    "- `reverse`: הופך את הסדר של הרשימה  \n",
    "- `copy`: יוצר עותק שטחי של הרשימה  \n",
    "- `clear`: מוחק את כל האיברים מהרשימה"
   ]
  },
  {
   "cell_type": "markdown",
   "id": "99a63b41",
   "metadata": {
    "slideshow": {
     "slide_type": "fragment"
    }
   },
   "source": [
    "- כל הפקודות מוחלות על רשימה קיימת בשם `lst`  \n",
    "- שימו לב ש־`index` ו־`count` אינם משנים את הרשימה"
   ]
  },
  {
   "cell_type": "markdown",
   "id": "1a7c0c8e",
   "metadata": {
    "slideshow": {
     "slide_type": "subslide"
    }
   },
   "source": [
    "### פונקציות שימושיות על רשימות\n",
    "\n",
    "\n",
    "\n",
    "\n",
    "\n"
   ]
  },
  {
   "cell_type": "markdown",
   "id": "6a121fdb",
   "metadata": {
    "slideshow": {
     "slide_type": "fragment"
    }
   },
   "source": [
    "- `len()` – מחזירה את האורך של הרשימה  \n",
    "- `sum()` – מחזירה את הסכום של כל איברי הרשימה  \n",
    "- `min()` – מחזירה את האיבר הקטן ביותר  \n",
    "- `max()` – מחזירה את האיבר הגדול ביותר  \n",
    "- `in` – מחזירה `True` אם איבר נמצא ברשימה  \n",
    "\n",
    "תיעוד מלא על רשימות בפייתון זמין [כאן](https://docs.python.org/3/tutorial/datastructures.html)\n"
   ]
  },
  {
   "cell_type": "markdown",
   "id": "5d7a547c-2508-4173-a664-86864f376e98",
   "metadata": {},
   "source": [
    "# טווח (range)"
   ]
  },
  {
   "cell_type": "markdown",
   "id": "4c0e40b7-2683-4878-91aa-4e6c9d6b0564",
   "metadata": {},
   "source": [
    "- הפונקציה `range` מחזירה אובייקט איטרבילי של מספרים שלמים ממוינים בתחום הנתון.\n",
    "- אובייקט שחוזר מ`range` מייצר את האיברים לפי דרישה.\n",
    "\n",
    "#### תחביר\n",
    "- `range(stop)`  \n",
    "- `range(start, stop)`  \n",
    "- `range(start, stop, step)`"
   ]
  },
  {
   "cell_type": "code",
   "execution_count": null,
   "id": "3300bd03",
   "metadata": {
    "execution": {
     "iopub.execute_input": "2025-03-10T07:46:16.617256Z",
     "iopub.status.busy": "2025-03-10T07:46:16.616616Z",
     "iopub.status.idle": "2025-03-10T07:46:16.621969Z",
     "shell.execute_reply": "2025-03-10T07:46:16.621138Z"
    },
    "slideshow": {
     "slide_type": "fragment"
    }
   },
   "outputs": [],
   "source": [
    "range(10)"
   ]
  },
  {
   "cell_type": "code",
   "execution_count": null,
   "id": "11e9fe1b",
   "metadata": {
    "execution": {
     "iopub.execute_input": "2025-03-10T07:46:16.624995Z",
     "iopub.status.busy": "2025-03-10T07:46:16.624312Z",
     "iopub.status.idle": "2025-03-10T07:46:16.630110Z",
     "shell.execute_reply": "2025-03-10T07:46:16.629226Z"
    },
    "slideshow": {
     "slide_type": "fragment"
    }
   },
   "outputs": [],
   "source": [
    "list(range(10))"
   ]
  },
  {
   "cell_type": "code",
   "execution_count": null,
   "id": "3299e842",
   "metadata": {
    "execution": {
     "iopub.execute_input": "2025-03-10T07:46:16.633243Z",
     "iopub.status.busy": "2025-03-10T07:46:16.632562Z",
     "iopub.status.idle": "2025-03-10T07:46:16.638322Z",
     "shell.execute_reply": "2025-03-10T07:46:16.637495Z"
    },
    "slideshow": {
     "slide_type": "fragment"
    }
   },
   "outputs": [],
   "source": [
    "list(range(0,10,2))"
   ]
  },
  {
   "cell_type": "code",
   "execution_count": null,
   "id": "9b8ff36d",
   "metadata": {
    "execution": {
     "iopub.execute_input": "2025-03-10T07:46:16.641311Z",
     "iopub.status.busy": "2025-03-10T07:46:16.640697Z",
     "iopub.status.idle": "2025-03-10T07:46:16.646550Z",
     "shell.execute_reply": "2025-03-10T07:46:16.645666Z"
    },
    "slideshow": {
     "slide_type": "fragment"
    }
   },
   "outputs": [],
   "source": [
    "list(range(10,0,-2))"
   ]
  },
  {
   "cell_type": "code",
   "execution_count": null,
   "id": "8759bee6",
   "metadata": {
    "execution": {
     "iopub.execute_input": "2025-03-10T07:46:16.649548Z",
     "iopub.status.busy": "2025-03-10T07:46:16.648920Z",
     "iopub.status.idle": "2025-03-10T07:46:16.654700Z",
     "shell.execute_reply": "2025-03-10T07:46:16.653901Z"
    },
    "slideshow": {
     "slide_type": "fragment"
    }
   },
   "outputs": [],
   "source": [
    "list(range(0, 10, -1))"
   ]
  },
  {
   "cell_type": "code",
   "execution_count": null,
   "id": "21d15113",
   "metadata": {
    "execution": {
     "iopub.execute_input": "2025-03-10T07:46:16.657952Z",
     "iopub.status.busy": "2025-03-10T07:46:16.657340Z",
     "iopub.status.idle": "2025-03-10T07:46:16.676092Z",
     "shell.execute_reply": "2025-03-10T07:46:16.675280Z"
    },
    "slideshow": {
     "slide_type": "fragment"
    },
    "tags": [
     "raises-exception"
    ]
   },
   "outputs": [],
   "source": [
    "range(0,10,0)"
   ]
  },
  {
   "cell_type": "markdown",
   "id": "fc008d93",
   "metadata": {
    "slideshow": {
     "slide_type": "subslide"
    },
    "tags": []
   },
   "source": [
    "# לולאות"
   ]
  },
  {
   "cell_type": "markdown",
   "id": "60040cae",
   "metadata": {
    "slideshow": {
     "slide_type": "fragment"
    },
    "tags": []
   },
   "source": [
    "#### הגדרה: חזרה על אותה הוראה שוב ושוב עד שמתקיים תנאי מסוים."
   ]
  },
  {
   "cell_type": "markdown",
   "id": "e27aa64d",
   "metadata": {
    "slideshow": {
     "slide_type": "subslide"
    },
    "tags": []
   },
   "source": [
    "# לולאת `while`\n"
   ]
  },
  {
   "cell_type": "markdown",
   "id": "cb48f150",
   "metadata": {
    "slideshow": {
     "slide_type": "fragment"
    },
    "tags": []
   },
   "source": [
    "חוזר על אותן שורות קוד עד שהתנאי בתחילת הלולאה מחזיר False\n",
    "\n",
    "```python\n",
    "while expression:\n",
    "    statement1\n",
    "    statement2\n",
    "    …\n",
    "rest of code…\n",
    "```\n",
    "\n",
    "#### ההזחה (indentation) קובעת את גוף האיטרציה\n",
    "\n",
    "- איטרציה 0:  \n",
    "    - ביצוע statement1, statement2, …  \n",
    "- איטרציה 1:  \n",
    "    - ביצוע statement1, statement2, …  \n",
    "\n",
    "…\n",
    "\n",
    "כאשר `expression` הוא `False` ⟶ \"קפוץ\" לשאר הקוד (כלומר, יציאה מהלולאה)\n"
   ]
  },
  {
   "cell_type": "markdown",
   "id": "ee4a2527",
   "metadata": {
    "slideshow": {
     "slide_type": "subslide"
    }
   },
   "source": [
    "### תרשים הזרימה של `while`\n",
    "\n",
    "<img width=500 heigth=500 src=\"data:image/png;base64,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\">"
   ]
  },
  {
   "cell_type": "markdown",
   "id": "2dc85913",
   "metadata": {
    "slideshow": {
     "slide_type": "subslide"
    }
   },
   "source": [
    "### דוגמה: מציאת המחלק הקטן ביותר\n",
    "\n",
    "- 10 ⟶ 2\n",
    "- 221 ⟶ 13"
   ]
  },
  {
   "cell_type": "code",
   "execution_count": null,
   "id": "b22fc253",
   "metadata": {
    "execution": {
     "iopub.execute_input": "2025-03-10T07:46:16.695142Z",
     "iopub.status.busy": "2025-03-10T07:46:16.694557Z",
     "iopub.status.idle": "2025-03-10T07:46:16.699398Z",
     "shell.execute_reply": "2025-03-10T07:46:16.698494Z"
    },
    "slideshow": {
     "slide_type": "fragment"
    }
   },
   "outputs": [],
   "source": [
    "n = 2025\n",
    "div = 2\n",
    "while n % div != 0:\n",
    "    div = div + 1\n",
    "print(\"Smallest divisor of\", n, \"is\", div)"
   ]
  },
  {
   "cell_type": "markdown",
   "id": "4656f1a9-094f-472b-abef-f44009ab7c35",
   "metadata": {
    "slideshow": {
     "slide_type": "subslide"
    }
   },
   "source": [
    "### הגדרת עצרת:\n",
    "\n",
    "$1\\cdot2\\cdot3=3!$\n",
    "\n",
    "$1\\cdot2\\cdot3\\cdot4\\cdot5\\cdot6=6!$\n",
    "\n",
    "$1\\cdot2\\cdot\\dots\\cdot)𝑛−1( \\cdot 𝑛=𝑛!$\n"
   ]
  },
  {
   "cell_type": "code",
   "execution_count": null,
   "id": "04f4dc49",
   "metadata": {
    "execution": {
     "iopub.execute_input": "2025-03-10T07:46:16.703084Z",
     "iopub.status.busy": "2025-03-10T07:46:16.702521Z",
     "iopub.status.idle": "2025-03-10T07:46:16.707648Z",
     "shell.execute_reply": "2025-03-10T07:46:16.706704Z"
    },
    "slideshow": {
     "slide_type": "fragment"
    }
   },
   "outputs": [],
   "source": [
    "# factorial implementation with \"while\" loop\n",
    "n = 7\n",
    "\n",
    "fact = 1\n",
    "i = 1\n",
    "while i <= n:\n",
    "    fact = fact * i\n",
    "    i = i + 1\n",
    "print(str(n)+\"!=\"+str(fact))"
   ]
  },
  {
   "cell_type": "markdown",
   "id": "341bb14f",
   "metadata": {
    "slideshow": {
     "slide_type": "subslide"
    }
   },
   "source": [
    "### לולאה אינסופית"
   ]
  },
  {
   "cell_type": "markdown",
   "id": "aff68bc6",
   "metadata": {
    "slideshow": {
     "slide_type": "fragment"
    }
   },
   "source": [
    "```python\n",
    "i = 1\n",
    "while i < 137:\n",
    "    print(i)\n",
    "```"
   ]
  },
  {
   "cell_type": "markdown",
   "id": "7f5fd3d3",
   "metadata": {
    "slideshow": {
     "slide_type": "subslide"
    }
   },
   "source": [
    " # לולאת `for`"
   ]
  },
  {
   "cell_type": "markdown",
   "id": "162150a3-8643-4619-982e-c9da39f4ea78",
   "metadata": {
    "slideshow": {
     "slide_type": "subslide"
    }
   },
   "source": [
    "#### תחביר\n",
    "```python\n",
    "for element in iterable:\n",
    "    statement1\n",
    "    statement2\n",
    "    …\n",
    "rest of code…\n",
    "```\n",
    "#### מעבר על כל איברי iterable (רשימה, מחרוזת וכו')\n",
    "- איטרציה 0: הקצה `element = iterable[0]`  \n",
    "בצע `statement1`, `statement2`, …\n",
    "\n",
    "- איטרציה 1: הקצה `element = iterable[1]`  \n",
    "בצע `statement1`, `statement2`, …\n",
    "…\n",
    "- אין עוד איברים ברשימה - \"קפוץ\" לשאר הקוד (כלומר, לצאת מהלולאה)"
   ]
  },
  {
   "cell_type": "markdown",
   "id": "1c1de025",
   "metadata": {
    "slideshow": {
     "slide_type": "subslide"
    }
   },
   "source": [
    "### דוגמא ללולאת `for`"
   ]
  },
  {
   "cell_type": "code",
   "execution_count": null,
   "id": "902a736e",
   "metadata": {
    "execution": {
     "iopub.execute_input": "2025-03-10T07:46:16.711569Z",
     "iopub.status.busy": "2025-03-10T07:46:16.711007Z",
     "iopub.status.idle": "2025-03-10T07:46:16.716505Z",
     "shell.execute_reply": "2025-03-10T07:46:16.715582Z"
    },
    "slideshow": {
     "slide_type": "fragment"
    }
   },
   "outputs": [],
   "source": [
    "lst = ['python', 2025, 'TAU']\n",
    "\n",
    "for elem in lst:\n",
    "        print(\"current element:\", elem)\n",
    "\n",
    "## Using `while` loop        \n",
    "i=0\n",
    "while i < len(lst):\n",
    "        elem=lst[i]\n",
    "        print(\"current element:\", elem)\n",
    "        i=i+1"
   ]
  },
  {
   "cell_type": "markdown",
   "id": "17b6d7c7",
   "metadata": {
    "slideshow": {
     "slide_type": "subslide"
    }
   },
   "source": [
    "### דוגמא נוספת ללולאת `for`"
   ]
  },
  {
   "cell_type": "code",
   "execution_count": null,
   "id": "47351f76",
   "metadata": {
    "execution": {
     "iopub.execute_input": "2025-03-10T07:46:16.720151Z",
     "iopub.status.busy": "2025-03-10T07:46:16.719586Z",
     "iopub.status.idle": "2025-03-10T07:46:16.724498Z",
     "shell.execute_reply": "2025-03-10T07:46:16.723581Z"
    },
    "slideshow": {
     "slide_type": "fragment"
    }
   },
   "outputs": [],
   "source": [
    "partial_sum = 0\n",
    "numbers = range(1,101)\n",
    "for num in numbers:\n",
    "    partial_sum = partial_sum + num\n",
    "print(\"The sum is\", partial_sum)\n"
   ]
  },
  {
   "cell_type": "markdown",
   "id": "55651ab5",
   "metadata": {
    "slideshow": {
     "slide_type": "fragment"
    }
   },
   "source": [
    "או פשוט:"
   ]
  },
  {
   "cell_type": "code",
   "execution_count": null,
   "id": "59bd821e",
   "metadata": {
    "execution": {
     "iopub.execute_input": "2025-03-10T07:46:16.728200Z",
     "iopub.status.busy": "2025-03-10T07:46:16.727603Z",
     "iopub.status.idle": "2025-03-10T07:46:16.733667Z",
     "shell.execute_reply": "2025-03-10T07:46:16.732916Z"
    },
    "slideshow": {
     "slide_type": "fragment"
    }
   },
   "outputs": [],
   "source": [
    "sum(range(1,101))"
   ]
  },
  {
   "cell_type": "markdown",
   "id": "59577714",
   "metadata": {
    "slideshow": {
     "slide_type": "subslide"
    }
   },
   "source": [
    "### פלינדרום עם לולאות"
   ]
  },
  {
   "cell_type": "code",
   "execution_count": null,
   "id": "f86eb3c5",
   "metadata": {
    "slideshow": {
     "slide_type": "fragment"
    }
   },
   "outputs": [],
   "source": [
    "def is_palindrome(text):\n",
    "    n = len(text)\n",
    "    for i in range(n // 2):\n",
    "        if text[i] != text[n - i - 1]:\n",
    "            return False\n",
    "    return True\n",
    "\n",
    "print(is_palindrome('abcba'))\n",
    "print(is_palindrome('abbc'))"
   ]
  },
  {
   "cell_type": "markdown",
   "id": "16d397fe",
   "metadata": {
    "slideshow": {
     "slide_type": "subslide"
    }
   },
   "source": [
    "### עצרת עם לולאת `for`"
   ]
  },
  {
   "cell_type": "markdown",
   "id": "64957402",
   "metadata": {
    "slideshow": {
     "slide_type": "fragment"
    }
   },
   "source": [
    "תזכורת:"
   ]
  },
  {
   "cell_type": "code",
   "execution_count": null,
   "id": "375af96f",
   "metadata": {
    "execution": {
     "iopub.execute_input": "2025-03-10T07:46:16.737288Z",
     "iopub.status.busy": "2025-03-10T07:46:16.736918Z",
     "iopub.status.idle": "2025-03-10T07:46:16.741431Z",
     "shell.execute_reply": "2025-03-10T07:46:16.740503Z"
    },
    "slideshow": {
     "slide_type": "fragment"
    }
   },
   "outputs": [],
   "source": [
    "n = 7\n",
    "fact = 1\n",
    "i = 1\n",
    "while i <= n:\n",
    "    fact = fact * i\n",
    "    i = i + 1"
   ]
  },
  {
   "cell_type": "markdown",
   "id": "ccad4902",
   "metadata": {
    "slideshow": {
     "slide_type": "fragment"
    }
   },
   "source": [
    "בואו נעשה את זה עם לולאת `for`"
   ]
  },
  {
   "cell_type": "code",
   "execution_count": null,
   "id": "95137b88",
   "metadata": {
    "execution": {
     "iopub.execute_input": "2025-03-10T07:46:16.745392Z",
     "iopub.status.busy": "2025-03-10T07:46:16.744909Z",
     "iopub.status.idle": "2025-03-10T07:46:16.750387Z",
     "shell.execute_reply": "2025-03-10T07:46:16.749579Z"
    },
    "slideshow": {
     "slide_type": "fragment"
    }
   },
   "outputs": [],
   "source": [
    "n  = 7\n",
    "\n",
    "fact = 1\n",
    "for i in range(2, n+1):\n",
    "    fact = fact * i\n",
    "\n",
    "print(n, \"! =\", fact)"
   ]
  },
  {
   "cell_type": "markdown",
   "id": "da39de1a",
   "metadata": {
    "slideshow": {
     "slide_type": "fragment"
    }
   },
   "source": [
    "`fact *= i` שקול ל־ `fact = fact * i`"
   ]
  },
  {
   "cell_type": "markdown",
   "id": "e28a2f1c",
   "metadata": {
    "slideshow": {
     "slide_type": "subslide"
    }
   },
   "source": [
    "### עצרת עם `for` ו־פונקציה"
   ]
  },
  {
   "cell_type": "code",
   "execution_count": null,
   "id": "e6f2a65a",
   "metadata": {
    "execution": {
     "iopub.execute_input": "2025-03-10T07:46:16.753482Z",
     "iopub.status.busy": "2025-03-10T07:46:16.753012Z",
     "iopub.status.idle": "2025-03-10T07:46:16.757406Z",
     "shell.execute_reply": "2025-03-10T07:46:16.756639Z"
    },
    "slideshow": {
     "slide_type": "fragment"
    }
   },
   "outputs": [],
   "source": [
    "def factorial(n):\n",
    "    fact = 1\n",
    "    for i in range(1,n+1):\n",
    "        fact *= i\n",
    "    return fact"
   ]
  },
  {
   "cell_type": "code",
   "execution_count": null,
   "id": "3679cb73",
   "metadata": {
    "execution": {
     "iopub.execute_input": "2025-03-10T07:46:16.760409Z",
     "iopub.status.busy": "2025-03-10T07:46:16.759849Z",
     "iopub.status.idle": "2025-03-10T07:46:16.764025Z",
     "shell.execute_reply": "2025-03-10T07:46:16.763298Z"
    },
    "slideshow": {
     "slide_type": "fragment"
    }
   },
   "outputs": [],
   "source": [
    "print(\"5!+3!+6! =\", factorial(5) + factorial(3) + factorial(6))"
   ]
  },
  {
   "cell_type": "markdown",
   "id": "85fa395a",
   "metadata": {
    "slideshow": {
     "slide_type": "fragment"
    }
   },
   "source": [
    "הימנעות מקוד כפול"
   ]
  },
  {
   "cell_type": "markdown",
   "id": "7677a8bc",
   "metadata": {
    "slideshow": {
     "slide_type": "fragment"
    }
   },
   "source": [
    "- n, fact ו־i הם משתנים מקומיים של הפונקציה\n",
    "  - קיימים רק בגבולות הפונקציה ונעלמים בסופה"
   ]
  },
  {
   "cell_type": "markdown",
   "id": "93fefdb2",
   "metadata": {
    "slideshow": {
     "slide_type": "subslide"
    }
   },
   "source": [
    "### ניתן לבצע איטרציה גם על מחרוזת"
   ]
  },
  {
   "cell_type": "code",
   "execution_count": null,
   "id": "d02d1fbb",
   "metadata": {
    "execution": {
     "iopub.execute_input": "2025-03-10T07:46:16.767086Z",
     "iopub.status.busy": "2025-03-10T07:46:16.766787Z",
     "iopub.status.idle": "2025-03-10T07:46:16.770931Z",
     "shell.execute_reply": "2025-03-10T07:46:16.770209Z"
    },
    "slideshow": {
     "slide_type": "fragment"
    }
   },
   "outputs": [],
   "source": [
    "name = \"Rick\"\n",
    "for letter in name:\n",
    "    print(\"Give me\", letter)\n",
    "print(\"What did we get?\", name)"
   ]
  },
  {
   "cell_type": "markdown",
   "id": "61655f54-f9fc-43c7-ada2-9132a4b12584",
   "metadata": {},
   "source": [
    "# `break` ו `continue`"
   ]
  },
  {
   "cell_type": "markdown",
   "id": "fe224830",
   "metadata": {
    "slideshow": {
     "slide_type": "subslide"
    }
   },
   "source": [
    "### מילת המפתח `break`\n",
    "- `break` יוצאת מהלולאה הקרובה ביותר באופן מיידי"
   ]
  },
  {
   "cell_type": "code",
   "execution_count": null,
   "id": "5bac8ac1",
   "metadata": {
    "execution": {
     "iopub.execute_input": "2025-03-10T07:46:16.773832Z",
     "iopub.status.busy": "2025-03-10T07:46:16.773536Z",
     "iopub.status.idle": "2025-03-10T07:46:16.778086Z",
     "shell.execute_reply": "2025-03-10T07:46:16.777353Z"
    },
    "slideshow": {
     "slide_type": "fragment"
    }
   },
   "outputs": [],
   "source": [
    "lst = [4, 2, -6, 3,-9]\n",
    "for elem in lst:\n",
    "    if elem < 0: \n",
    "        print(\"First negative number is\", elem)\n",
    "        break\n",
    "    print(\"current number is: \", elem)"
   ]
  },
  {
   "cell_type": "markdown",
   "id": "b861cb38",
   "metadata": {
    "slideshow": {
     "slide_type": "subslide"
    }
   },
   "source": [
    "### דוגמה: שימוש ב־ `break` בלולאת `for`: מציאת המחלק הקטן ביותר"
   ]
  },
  {
   "cell_type": "code",
   "execution_count": null,
   "id": "fa7af03a",
   "metadata": {
    "execution": {
     "iopub.execute_input": "2025-03-10T07:46:16.780983Z",
     "iopub.status.busy": "2025-03-10T07:46:16.780679Z",
     "iopub.status.idle": "2025-03-10T07:46:16.784917Z",
     "shell.execute_reply": "2025-03-10T07:46:16.784161Z"
    },
    "slideshow": {
     "slide_type": "fragment"
    }
   },
   "outputs": [],
   "source": [
    "def smallest_divisor(n):\n",
    "    for div in range(2, n+1):\n",
    "        if n % div == 0:\n",
    "            break\n",
    "    return div"
   ]
  },
  {
   "cell_type": "code",
   "execution_count": null,
   "id": "10d069b2",
   "metadata": {
    "execution": {
     "iopub.execute_input": "2025-03-10T07:46:16.787790Z",
     "iopub.status.busy": "2025-03-10T07:46:16.787465Z",
     "iopub.status.idle": "2025-03-10T07:46:16.792931Z",
     "shell.execute_reply": "2025-03-10T07:46:16.792184Z"
    },
    "slideshow": {
     "slide_type": "fragment"
    }
   },
   "outputs": [],
   "source": [
    "n=35 # 5*7 \n",
    "smallest_divisor(n)"
   ]
  },
  {
   "cell_type": "markdown",
   "id": "5c5e5593",
   "metadata": {
    "slideshow": {
     "slide_type": "subslide"
    }
   },
   "source": [
    "### בדיקה האם מספר הוא ראשוני"
   ]
  },
  {
   "cell_type": "code",
   "execution_count": null,
   "id": "8746dbf2",
   "metadata": {
    "execution": {
     "iopub.execute_input": "2025-03-10T07:46:16.795785Z",
     "iopub.status.busy": "2025-03-10T07:46:16.795476Z",
     "iopub.status.idle": "2025-03-10T07:46:16.799252Z",
     "shell.execute_reply": "2025-03-10T07:46:16.798512Z"
    },
    "slideshow": {
     "slide_type": "fragment"
    }
   },
   "outputs": [],
   "source": [
    "n=25"
   ]
  },
  {
   "cell_type": "code",
   "execution_count": null,
   "id": "6a9f19e7",
   "metadata": {
    "execution": {
     "iopub.execute_input": "2025-03-10T07:46:16.802359Z",
     "iopub.status.busy": "2025-03-10T07:46:16.801837Z",
     "iopub.status.idle": "2025-03-10T07:46:16.806494Z",
     "shell.execute_reply": "2025-03-10T07:46:16.805741Z"
    },
    "slideshow": {
     "slide_type": "fragment"
    }
   },
   "outputs": [],
   "source": [
    "for div in range(2,n): \n",
    "    if n % div == 0:\n",
    "        break\n",
    "if n % div == 0: \n",
    "    print(n, \"is not prime\")\n",
    "else:\n",
    "    print(n, \"is prime\")"
   ]
  },
  {
   "cell_type": "markdown",
   "id": "3aa0d824",
   "metadata": {
    "slideshow": {
     "slide_type": "subslide"
    }
   },
   "source": [
    "### בדיקה האם מספר הוא ראשוני (משופר)"
   ]
  },
  {
   "cell_type": "code",
   "execution_count": null,
   "id": "a3b19636",
   "metadata": {
    "execution": {
     "iopub.execute_input": "2025-03-10T07:46:16.809587Z",
     "iopub.status.busy": "2025-03-10T07:46:16.809103Z",
     "iopub.status.idle": "2025-03-10T07:46:16.813944Z",
     "shell.execute_reply": "2025-03-10T07:46:16.813200Z"
    },
    "slideshow": {
     "slide_type": "fragment"
    }
   },
   "outputs": [],
   "source": [
    "n=25\n",
    "for div in range(2,int(n**0.5)): \n",
    "    if n % div == 0:\n",
    "        break\n",
    "if n % div == 0: \n",
    "    print(n, \"is not prime\")\n",
    "else:\n",
    "    print(n, \"is prime\")\n"
   ]
  },
  {
   "cell_type": "markdown",
   "id": "766ad006",
   "metadata": {
    "slideshow": {
     "slide_type": "fragment"
    }
   },
   "source": [
    "איפה הבאג?"
   ]
  },
  {
   "cell_type": "markdown",
   "id": "3cfbf648",
   "metadata": {
    "slideshow": {
     "slide_type": "subslide"
    }
   },
   "source": [
    "### בדיקה האם מספר הוא ראשוני (מתוקן)"
   ]
  },
  {
   "cell_type": "code",
   "execution_count": null,
   "id": "ca9bdd03",
   "metadata": {
    "execution": {
     "iopub.execute_input": "2025-03-10T07:46:16.816950Z",
     "iopub.status.busy": "2025-03-10T07:46:16.816644Z",
     "iopub.status.idle": "2025-03-10T07:46:16.821657Z",
     "shell.execute_reply": "2025-03-10T07:46:16.820840Z"
    },
    "slideshow": {
     "slide_type": "subslide"
    }
   },
   "outputs": [],
   "source": [
    "n=25\n",
    "for div in range(2,int(n**0.5)+1): # Note the +1!\n",
    "    if n % div == 0:\n",
    "        break\n",
    "if n % div == 0: \n",
    "    print(n, \"is not prime\")\n",
    "else:\n",
    "    print(n, \"is prime\")"
   ]
  },
  {
   "cell_type": "markdown",
   "id": "662c8170",
   "metadata": {},
   "source": [
    "### מילת המפתח `continue`\n",
    "- `continue` מדלגת על שאר האיטרציה הנוכחית ועוברת לבאה"
   ]
  },
  {
   "cell_type": "markdown",
   "id": "9c74e515",
   "metadata": {
    "slideshow": {
     "slide_type": "subslide"
    }
   },
   "source": [
    "### דוגמה ל־ `continue`"
   ]
  },
  {
   "cell_type": "markdown",
   "id": "0fcea0eb",
   "metadata": {
    "slideshow": {
     "slide_type": "fragment"
    }
   },
   "source": [
    "נתונה רשימה, החזר רשימה חדשה של איברים ייחודיים בלבד"
   ]
  },
  {
   "cell_type": "code",
   "execution_count": null,
   "id": "2885e527",
   "metadata": {
    "execution": {
     "iopub.execute_input": "2025-03-10T07:46:16.824892Z",
     "iopub.status.busy": "2025-03-10T07:46:16.824401Z",
     "iopub.status.idle": "2025-03-10T07:46:16.828721Z",
     "shell.execute_reply": "2025-03-10T07:46:16.827964Z"
    },
    "slideshow": {
     "slide_type": "fragment"
    }
   },
   "outputs": [],
   "source": [
    "def unique_list(lst):\n",
    "    uniques = []\n",
    "    for x in lst: \n",
    "        if x in uniques: \n",
    "            continue \n",
    "        uniques.append(x)\n",
    "    return uniques"
   ]
  },
  {
   "cell_type": "code",
   "execution_count": null,
   "id": "437c5e02",
   "metadata": {
    "execution": {
     "iopub.execute_input": "2025-03-10T07:46:16.831555Z",
     "iopub.status.busy": "2025-03-10T07:46:16.831248Z",
     "iopub.status.idle": "2025-03-10T07:46:16.837016Z",
     "shell.execute_reply": "2025-03-10T07:46:16.836166Z"
    },
    "slideshow": {
     "slide_type": "fragment"
    }
   },
   "outputs": [],
   "source": [
    "unique_list([1,4,5,8,3,5,7,1,2])"
   ]
  }
 ],
 "metadata": {
  "kernelspec": {
   "display_name": "Python 3 (ipykernel)",
   "language": "python",
   "name": "python3"
  },
  "language_info": {
   "codemirror_mode": {
    "name": "ipython",
    "version": 3
   },
   "file_extension": ".py",
   "mimetype": "text/x-python",
   "name": "python",
   "nbconvert_exporter": "python",
   "pygments_lexer": "ipython3",
   "version": "3.11.12"
  }
 },
 "nbformat": 4,
 "nbformat_minor": 5
}
