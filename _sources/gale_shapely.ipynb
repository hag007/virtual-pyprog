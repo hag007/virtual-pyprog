{
 "cells": [
  {
   "cell_type": "markdown",
   "metadata": {},
   "source": [
    "# דוגמא מסכמת \"רצה\": אלגוריתם Gale-Shapely"
   ]
  },
  {
   "cell_type": "code",
   "execution_count": 1,
   "metadata": {
    "tags": [
     "remove-input"
    ]
   },
   "outputs": [
    {
     "data": {
      "text/html": [
       "<iframe width=\"560\" height=\"315\" src=\"https://www.youtube.com/embed/p1AXih05e8U?si=ekuTDZEAKwhN-skv\" title=\"YouTube video player\" frameborder=\"0\" allow=\"accelerometer; autoplay; clipboard-write; encrypted-media; gyroscope; picture-in-picture; web-share\" referrerpolicy=\"strict-origin-when-cross-origin\" allowfullscreen></iframe>\n"
      ],
      "text/plain": [
       "<IPython.core.display.HTML object>"
      ]
     },
     "metadata": {},
     "output_type": "display_data"
    }
   ],
   "source": [
    "%%html\n",
    "<iframe width=\"560\" height=\"315\" src=\"https://www.youtube.com/embed/p1AXih05e8U?si=ekuTDZEAKwhN-skv\" title=\"YouTube video player\" frameborder=\"0\" allow=\"accelerometer; autoplay; clipboard-write; encrypted-media; gyroscope; picture-in-picture; web-share\" referrerpolicy=\"strict-origin-when-cross-origin\" allowfullscreen></iframe>"
   ]
  },
  {
   "cell_type": "markdown",
   "metadata": {},
   "source": [
    "## שבוע 1: שימוש בהשמות, אופרטורים ותנאים"
   ]
  },
  {
   "cell_type": "code",
   "execution_count": 99,
   "metadata": {},
   "outputs": [],
   "source": [
    "def matching_attempt1(i_man, man_preference, man_preference_rank, i_woman, woman_partner, woman_preference):\n",
    "    man_current_perference=int(man_preference[man_preference_rank])\n",
    "    if man_current_perference == i_woman:\n",
    "        if woman_partner != -1:\n",
    "            man_priority=woman_preference.index(i_man)\n",
    "            alternative_priority=woman_preference.index(woman_partner)\n",
    "            if man_priority < alternative_priority:\n",
    "                return \"matching_with_breakup\"\n",
    "            else: \n",
    "                return \"no_matching\"         \n",
    "        return \"matching\"\n",
    "    return \"no_matching\""
   ]
  },
  {
   "cell_type": "code",
   "execution_count": 100,
   "metadata": {},
   "outputs": [],
   "source": [
    "# Women_preferences:\n",
    "woman_0_preference=\"0123\"\n",
    "woman_1_preference=\"0123\"\n",
    "woman_2_preference=\"0123\"\n",
    "woman_3_preference=\"0123\"\n",
    "\n",
    "# Stores women's partners\n",
    "woman_0_partner = -1 \n",
    "woman_1_partner = -1 \n",
    "woman_2_partner = -1 \n",
    "woman_3_partner = -1 \n",
    "\n",
    "# Men_preferences:\n",
    "man_0_preference=\"3120\"\n",
    "man_1_preference=\"1023\"\n",
    "man_2_preference=\"0123\"\n",
    "man_3_preference=\"0123\"\n",
    "\n",
    "# Men_preference_indices:\n",
    "man_0_preference_rank=0\n",
    "man_1_preference_rank=0\n",
    "man_2_preference_rank=0\n",
    "man_3_preference_rank=0\n",
    "\n",
    "\n",
    "# mFree = [False] * N  # Tracks free men\n",
    "man_0_available = True \n",
    "man_1_available = True \n",
    "man_2_available = True \n",
    "man_3_available = True "
   ]
  },
  {
   "cell_type": "code",
   "execution_count": 107,
   "metadata": {},
   "outputs": [
    {
     "name": "stdout",
     "output_type": "stream",
     "text": [
      "matching\n"
     ]
    }
   ],
   "source": [
    "# Here we show only a single attempt to match the first man and the first woman. In case the first woman is the top preference of the first man, There would be an attempt to match them.\n",
    "i_man=0\n",
    "i_woman=0 \n",
    "if man_0_available:\n",
    "    outcome=matching_attempt1(i_man, man_0_preference, man_0_preference_rank, i_woman, woman_0_partner, woman_0_preference)\n",
    "    man_0_preference_rank+=1\n",
    "    print(outcome)\n",
    "    if outcome==\"matching_with_breakup\":\n",
    "        man_0_available=False\n",
    "        woman_0_partner=0\n",
    "        if woman_0_partner==1:\n",
    "            man_1_available=True\n",
    "        elif woman_0_partner==2:\n",
    "            man_2_available=True\n",
    "        else:\n",
    "            man_3_available=True\n",
    "    elif outcome==\"matching\":\n",
    "        man_0_available=False\n",
    "        woman_0_partner=0\n",
    "    else:\n",
    "        print(\"Matching failed for man_0 and woman_0\")\n",
    "else:\n",
    "    print(\"man_0 is already matched\")\n"
   ]
  },
  {
   "cell_type": "code",
   "execution_count": 108,
   "metadata": {},
   "outputs": [
    {
     "name": "stdout",
     "output_type": "stream",
     "text": [
      "man\twoman\n",
      "0\t0\n",
      "-1\t1\n",
      "-1\t2\n",
      "-1\t3\n"
     ]
    }
   ],
   "source": [
    "# Print the matching\n",
    "print(\"man\\twoman\")\n",
    "print(woman_0_partner, 0, sep='\\t')\n",
    "print(woman_1_partner, 1, sep='\\t')\n",
    "print(woman_2_partner, 2, sep='\\t')\n",
    "print(woman_3_partner, 3, sep='\\t')"
   ]
  },
  {
   "cell_type": "markdown",
   "metadata": {},
   "source": [
    "## שבוע 2: שימוש ברשימות"
   ]
  },
  {
   "cell_type": "code",
   "execution_count": 54,
   "metadata": {},
   "outputs": [],
   "source": [
    "\n",
    "def matching_attempt2(i_man, women_preferences, women_partners, men_preferences, men_available):\n",
    "    i_woman=men_preferences[i_man][0]\n",
    "    men_preferences[i_man]=men_preferences[i_man][1:]\n",
    "\n",
    "    if women_partners[i_woman] == -1:\n",
    "        women_partners[i_woman]=i_man\n",
    "        men_available[i_man]=False\n",
    "    else:\n",
    "        man_priority=women_preferences[i_woman].index(i_man)\n",
    "        alternative_priority=women_preferences[i_woman].index(women_partners[i_woman])\n",
    "        if man_priority < alternative_priority:\n",
    "            if women_partners[i_woman]==1:\n",
    "                men_available[1]=True\n",
    "            elif women_partners[i_woman]==2:\n",
    "                men_available[2]=True\n",
    "            else:\n",
    "                men_available[3]=True\n",
    "            men_available[i_man]=False\n",
    "            women_partners[i_woman]=1"
   ]
  },
  {
   "cell_type": "code",
   "execution_count": null,
   "metadata": {},
   "outputs": [],
   "source": [
    "women_preferences=[[0,1,2,3], [0,1,2,3], [0,1,2,3], [0,1,2,3]]\n",
    "\n",
    "women_partners = [-1]*4 \n",
    "\n",
    "men_preferences=[[3, 1, 2, 0], [1, 0, 2, 3], [0, 1, 2, 3], [0, 1, 2, 3]]\n",
    "\n",
    "men_available = [True]*4  \n",
    "\n",
    "n_matches=len(men_available)\n",
    "\n",
    "# Here we only show a single attempt to match the man_2 and man_3 \n",
    "i_man=2\n",
    "matching_attempt2(i_man, women_preferences, women_partners, men_preferences, men_available)\n",
    "\n",
    "i_man=3\n",
    "matching_attempt2(i_man, women_preferences, women_partners, men_preferences, men_available)"
   ]
  },
  {
   "cell_type": "code",
   "execution_count": 58,
   "metadata": {},
   "outputs": [
    {
     "name": "stdout",
     "output_type": "stream",
     "text": [
      "man\twoman\n",
      "2\t0\n",
      "-1\t1\n",
      "-1\t2\n",
      "-1\t3\n"
     ]
    }
   ],
   "source": [
    "# Print the matching\n",
    "print(\"man\\twoman\")\n",
    "for i_woman in range(n_matches):\n",
    "    print(women_partners[i_woman], i_woman, sep='\\t')"
   ]
  },
  {
   "cell_type": "markdown",
   "metadata": {},
   "source": [
    "שימו לב שעבור man_3 לא התבצעה התאמה מכיוון שwoman_0, שהיא המועדפת ביותר על man_0, מעדיפה את man_2\n",
    "\n",
    " כעת ננסה להתאים את man_3 שוב\n"
   ]
  },
  {
   "cell_type": "code",
   "execution_count": null,
   "metadata": {},
   "outputs": [],
   "source": [
    "i_man=3\n",
    "matching_attempt2(i_man, women_preferences, women_partners, men_preferences, men_available)"
   ]
  },
  {
   "cell_type": "code",
   "execution_count": 60,
   "metadata": {},
   "outputs": [
    {
     "name": "stdout",
     "output_type": "stream",
     "text": [
      "man\twoman\n",
      "2\t0\n",
      "3\t1\n",
      "-1\t2\n",
      "-1\t3\n"
     ]
    }
   ],
   "source": [
    "# Print the matching\n",
    "print(\"man\\twoman\")\n",
    "for i_woman in range(n_matches):\n",
    "    print(women_partners[i_woman], i_woman, sep='\\t')"
   ]
  },
  {
   "cell_type": "markdown",
   "metadata": {},
   "source": [
    "## שבוע 3: שימוש בלולאות"
   ]
  },
  {
   "cell_type": "code",
   "execution_count": 41,
   "metadata": {},
   "outputs": [],
   "source": [
    "\n",
    "def matching_attempt3(i_man, women_preferences, women_partners, men_preferences, men_available):\n",
    "    i_woman=men_preferences[i_man][0]\n",
    "    men_preferences[i_man]=men_preferences[i_man][1:]\n",
    "\n",
    "    if women_partners[i_woman] == -1:\n",
    "        women_partners[i_woman]=i_man\n",
    "        men_available[i_man]=False\n",
    "\n",
    "    else:\n",
    "        man_priority=women_preferences[i_woman].index(i_man)\n",
    "        alternative_priority=women_preferences[i_woman].index(women_partners[i_woman])\n",
    "        if man_priority < alternative_priority:\n",
    "            if women_partners[i_woman]==1:\n",
    "                men_available[1]=True\n",
    "            elif women_partners[i_woman]==2:\n",
    "                men_available[2]=True\n",
    "            else:\n",
    "                men_available[3]=True\n",
    "                \n",
    "            men_available[i_man]=False\n",
    "            women_partners[i_woman]=i_man"
   ]
  },
  {
   "cell_type": "code",
   "execution_count": 64,
   "metadata": {},
   "outputs": [],
   "source": [
    "women_preferences=[[0,1,2,3], [0,1,2,3], [0,1,2,3], [0,1,2,3]]\n",
    "\n",
    "women_partners = [-1]*4 \n",
    "\n",
    "men_preferences=[[3, 1, 2, 0], [1, 0, 2, 3], [0, 1, 2, 3], [0, 1, 2, 3]]\n",
    "\n",
    "men_available = [True]*4  \n",
    "\n",
    "n_matches=len(men_available)\n",
    "\n",
    "while men_available[0] or men_available[1] or men_available[2] or men_available[3]:\n",
    "    for i_man in range(n_matches):\n",
    "        if men_available[i_man]:\n",
    "            matching_attempt3(i_man, women_preferences, women_partners, men_preferences, men_available)"
   ]
  },
  {
   "cell_type": "code",
   "execution_count": 65,
   "metadata": {},
   "outputs": [
    {
     "name": "stdout",
     "output_type": "stream",
     "text": [
      "man\twoman\n",
      "2\t0\n",
      "1\t1\n",
      "3\t2\n",
      "0\t3\n"
     ]
    }
   ],
   "source": [
    "# Print the matching\n",
    "print(\"man\\twoman\")\n",
    "for i_woman in range(n_matches):\n",
    "    print(women_partners[i_woman], i_woman, sep='\\t')\n",
    "    "
   ]
  },
  {
   "cell_type": "markdown",
   "metadata": {},
   "source": [
    "מימוש עם `break` ו `continue`"
   ]
  },
  {
   "cell_type": "code",
   "execution_count": 66,
   "metadata": {},
   "outputs": [],
   "source": [
    "women_preferences=[[0,1,2,3], [0,1,2,3], [0,1,2,3], [0,1,2,3]]\n",
    "\n",
    "women_partners = [-1]*4 \n",
    "\n",
    "men_preferences=[[3, 1, 2, 0], [1, 0, 2, 3], [0, 1, 2, 3], [0, 1, 2, 3]]\n",
    "\n",
    "men_available = [True]*4 \n",
    "\n",
    "n_matches=len(men_available)\n",
    "\n",
    "while True:\n",
    "    for i_man in range(n_matches):\n",
    "        if not men_available[i_man]:\n",
    "            continue\n",
    "        matching_attempt3(i_man, women_preferences, women_partners, men_preferences, men_available)\n",
    "        \n",
    "    if not (men_available[0] or men_available[1] or men_available[2] or men_available[3]):\n",
    "        break"
   ]
  },
  {
   "cell_type": "code",
   "execution_count": 67,
   "metadata": {},
   "outputs": [
    {
     "name": "stdout",
     "output_type": "stream",
     "text": [
      "man\twoman\n",
      "2\t0\n",
      "1\t1\n",
      "3\t2\n",
      "0\t3\n"
     ]
    }
   ],
   "source": [
    "# Print the matching\n",
    "print(\"man\\twoman\")\n",
    "for i_woman in range(n_matches):\n",
    "    print(women_partners[i_woman], i_woman, sep='\\t')\n",
    "    "
   ]
  }
 ],
 "metadata": {
  "kernelspec": {
   "display_name": "Python 3 (ipykernel)",
   "language": "python",
   "name": "python3"
  },
  "language_info": {
   "codemirror_mode": {
    "name": "ipython",
    "version": 3
   },
   "file_extension": ".py",
   "mimetype": "text/x-python",
   "name": "python",
   "nbconvert_exporter": "python",
   "pygments_lexer": "ipython3",
   "version": "3.11.12"
  }
 },
 "nbformat": 4,
 "nbformat_minor": 4
}
