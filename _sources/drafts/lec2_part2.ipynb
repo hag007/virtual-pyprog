{
 "cells": [
  {
   "cell_type": "code",
   "execution_count": 1,
   "id": "eb624f3c-24d8-489c-9472-2a5ea8ef7a45",
   "metadata": {},
   "outputs": [
    {
     "data": {
      "text/html": [
       "<!-- RTL Fix the jupyter notebook 7  -->\n",
       "<style>\n",
       "    .jp-RenderedHTMLCommon {\n",
       "        padding-top: 2em !important;\n",
       "  }   \n",
       "    .jp-RenderedHTMLCommon, .jp-RenderedHTMLCommon * {\n",
       "        direction: rtl !important;\n",
       "        text-align:right !important;\n",
       "  }\n",
       "    .jp-MarkdownCell .jp-InputArea-editor {\n",
       "        direction: rtl !important; \n",
       "        text-align:right !important;\n",
       "        padding-top: 2em !important;\n",
       "  } \n",
       "\n",
       " .jp-RenderedHTMLCommon code, .jp-RenderedHTMLCommon code span {\n",
       "        text-align:left !important;\n",
       "        direction: ltr !important;\n",
       "        unicode-bidi: embed !important;\n",
       "\n",
       "    }\n",
       "    .jp-RenderedHTMLCommon pre:has(code) {\n",
       "      direction: ltr !important;\n",
       "      text-align: left!important;\n",
       "    }\n",
       "\n",
       "</style> \n"
      ],
      "text/plain": [
       "<IPython.core.display.HTML object>"
      ]
     },
     "metadata": {},
     "output_type": "display_data"
    }
   ],
   "source": [
    "%%html\n",
    "<!-- RTL Fix the jupyter notebook 7  -->\n",
    "<style>\n",
    "    .jp-RenderedHTMLCommon {\n",
    "        padding-top: 2em !important;\n",
    "  }   \n",
    "    .jp-RenderedHTMLCommon, .jp-RenderedHTMLCommon * {\n",
    "        direction: rtl !important;\n",
    "        text-align:right !important;\n",
    "  }\n",
    "    .jp-MarkdownCell .jp-InputArea-editor {\n",
    "        direction: rtl !important; \n",
    "        text-align:right !important;\n",
    "        padding-top: 2em !important;\n",
    "  } \n",
    "\n",
    " .jp-RenderedHTMLCommon code, .jp-RenderedHTMLCommon code span {\n",
    "        text-align:left !important;\n",
    "        direction: ltr !important;\n",
    "        unicode-bidi: embed !important;\n",
    "\n",
    "    }\n",
    "    .jp-RenderedHTMLCommon pre:has(code) {\n",
    "      direction: ltr !important;\n",
    "      text-align: left!important;\n",
    "    }\n",
    "\n",
    "</style> "
   ]
  },
  {
   "cell_type": "markdown",
   "id": "bf1b41db",
   "metadata": {},
   "source": [
    "### דוגמה: מציאת המחלק הקטן ביותר\n",
    "- 10 ⟶ 2\n",
    "- 221 ⟶ 13"
   ]
  },
  {
   "cell_type": "markdown",
   "id": "6e31f213",
   "metadata": {},
   "source": [
    "### הגדרת עצרת (Factorial):\n",
    "3! = 1⋅2⋅3\n",
    "6! = 1⋅2⋅3⋅4⋅5⋅6\n",
    "𝑛! = 1⋅2⋅…⋅(𝑛−1)⋅𝑛\n",
    "\n",
    "\n"
   ]
  },
  {
   "cell_type": "markdown",
   "id": "22cf50b9",
   "metadata": {},
   "source": [
    "### לולאה אינסופית"
   ]
  },
  {
   "cell_type": "markdown",
   "id": "eb74cfb7",
   "metadata": {},
   "source": [
    "```python\n",
    "i = 1\n",
    "while i < 137:\n",
    "    print(i)\n",
    "```"
   ]
  },
  {
   "cell_type": "markdown",
   "id": "55515a0f",
   "metadata": {},
   "source": [
    "### לולאת `for`\n",
    "#### תחביר\n",
    "```python\n",
    "for element in iterable:\n",
    "    statement1\n",
    "    statement2\n",
    "    …\n",
    "rest of code…\n",
    "```\n",
    "#### מעבר על כל איברי iterable (רשימה, מחרוזת וכו')"
   ]
  },
  {
   "cell_type": "markdown",
   "id": "d043b3bc",
   "metadata": {},
   "source": [
    "### לולאת `for`\n",
    "```python\n",
    "for element in iterable:\n",
    "    statement1\n",
    "    statement2\n",
    "    …\n",
    "rest of code…\n",
    "```\n",
    "- המשתנה `element` מוגדר על ידי הלולאה\n",
    "- הזחה קובעת את גוף הלולאה"
   ]
  },
  {
   "cell_type": "markdown",
   "id": "bc635945",
   "metadata": {},
   "source": [
    "### דוגמה 1 ללולאת `for`"
   ]
  },
  {
   "cell_type": "markdown",
   "id": "be06e277",
   "metadata": {},
   "source": [
    "### דוגמה 2 ללולאת `for`"
   ]
  },
  {
   "cell_type": "markdown",
   "id": "1a789fcb",
   "metadata": {},
   "source": [
    "או פשוט:"
   ]
  },
  {
   "cell_type": "markdown",
   "id": "1223436b",
   "metadata": {},
   "source": [
    "### עצרת עם לולאת `for`"
   ]
  },
  {
   "cell_type": "markdown",
   "id": "c2d1deba",
   "metadata": {},
   "source": [
    "תזכורת:"
   ]
  },
  {
   "cell_type": "markdown",
   "id": "2df762d0",
   "metadata": {},
   "source": [
    "בואו נעשה את זה עם לולאת `for`"
   ]
  },
  {
   "cell_type": "markdown",
   "id": "b85e3fb4",
   "metadata": {},
   "source": [
    "`fact *= i` שקול ל־ `fact = fact * i`"
   ]
  },
  {
   "cell_type": "markdown",
   "id": "e971d4ec",
   "metadata": {},
   "source": [
    "### עצרת עם `for` ו־פונקציה"
   ]
  },
  {
   "cell_type": "markdown",
   "id": "ca436301",
   "metadata": {},
   "source": [
    "הימנעות מקוד כפול"
   ]
  },
  {
   "cell_type": "markdown",
   "id": "9cc8c9fd",
   "metadata": {},
   "source": [
    "- n, fact ו־i הם משתנים מקומיים של הפונקציה\n",
    "  - קיימים רק בגבולות הפונקציה ונעלמים בסופה"
   ]
  },
  {
   "cell_type": "markdown",
   "id": "9821fb94",
   "metadata": {},
   "source": [
    "### ניתן לבצע איטרציה גם על מחרוזת"
   ]
  },
  {
   "cell_type": "markdown",
   "id": "84c2c701",
   "metadata": {},
   "source": [
    "### מילת המפתח `break`\n",
    "- `break` יוצאת מהלולאה הקרובה ביותר באופן מיידי"
   ]
  },
  {
   "cell_type": "markdown",
   "id": "1ebed9c6",
   "metadata": {},
   "source": [
    "### דוגמה: שימוש ב־ `break`"
   ]
  },
  {
   "cell_type": "markdown",
   "id": "685c8b57",
   "metadata": {},
   "source": [
    "### דוגמה: מציאת מחלק קטן ביותר באמצעות `for`"
   ]
  },
  {
   "cell_type": "markdown",
   "id": "156c053c",
   "metadata": {},
   "source": [
    "### בדיקה האם מספר הוא ראשוני"
   ]
  },
  {
   "cell_type": "markdown",
   "id": "7d4c7572",
   "metadata": {},
   "source": [
    "### בדיקה האם מספר הוא ראשוני (משופר)"
   ]
  },
  {
   "cell_type": "markdown",
   "id": "bc4d0717",
   "metadata": {},
   "source": [
    "איפה הבאג?"
   ]
  },
  {
   "cell_type": "markdown",
   "id": "f987eda6",
   "metadata": {},
   "source": [
    "### בדיקה האם מספר הוא ראשוני (מתוקן)"
   ]
  },
  {
   "cell_type": "markdown",
   "id": "e516e32a",
   "metadata": {},
   "source": [
    "### מילת המפתח `continue`\n",
    "- `continue` מדלגת על שאר האיטרציה הנוכחית ועוברת לבאה"
   ]
  },
  {
   "cell_type": "markdown",
   "id": "4d50dc01",
   "metadata": {},
   "source": [
    "### דוגמה ל־ `continue`"
   ]
  },
  {
   "cell_type": "markdown",
   "id": "3ee2d497",
   "metadata": {},
   "source": [
    "נתונה רשימה, החזר רשימה חדשה של איברים ייחודיים בלבד"
   ]
  },
  {
   "cell_type": "markdown",
   "id": "0fc8ef0a",
   "metadata": {},
   "source": [
    "### אם יישאר זמן: פלינדרום עם לולאות"
   ]
  },
  {
   "cell_type": "markdown",
   "id": "b3965313",
   "metadata": {},
   "source": [
    "## זה הכל לעכשיו... 🥴️"
   ]
  }
 ],
 "metadata": {
  "kernelspec": {
   "display_name": "Python 3 (ipykernel)",
   "language": "python",
   "name": "python3"
  },
  "language_info": {
   "codemirror_mode": {
    "name": "ipython",
    "version": 3
   },
   "file_extension": ".py",
   "mimetype": "text/x-python",
   "name": "python",
   "nbconvert_exporter": "python",
   "pygments_lexer": "ipython3",
   "version": "3.11.12"
  }
 },
 "nbformat": 4,
 "nbformat_minor": 5
}
