{
 "cells": [
  {
   "cell_type": "markdown",
   "id": "a50ccc85",
   "metadata": {},
   "source": [
    "# רשימות, טווחים (ranges), ולולאות\n",
    "\n",
    "## תכנות פייתון למהנדסים  \n",
    "### אוניברסיטת תל אביב / 0509-1820 / אביב 2025"
   ]
  },
  {
   "cell_type": "markdown",
   "id": "db0e0f5e",
   "metadata": {},
   "source": [
    "## סדר היום להיום\n",
    "\n",
    "- `list`  \n",
    "- `range`  \n",
    "- לולאות  \n",
    "    - `while`  \n",
    "    - `for`"
   ]
  },
  {
   "cell_type": "markdown",
   "id": "ead1bd46",
   "metadata": {},
   "source": [
    "### רשימות"
   ]
  },
  {
   "cell_type": "markdown",
   "id": "73a446e9",
   "metadata": {},
   "source": [
    "- רשימה היא רצף מסודר של איברים.  \n",
    "- יצירת רשימה בפייתון:"
   ]
  },
  {
   "cell_type": "code",
   "execution_count": null,
   "id": "13f36093",
   "metadata": {
    "execution": {
     "iopub.execute_input": "2025-03-10T07:46:14.931295Z",
     "iopub.status.busy": "2025-03-10T07:46:14.930257Z",
     "iopub.status.idle": "2025-03-10T07:46:14.945711Z",
     "shell.execute_reply": "2025-03-10T07:46:14.944744Z"
    },
    "slideshow": {
     "slide_type": "fragment"
    }
   },
   "outputs": [],
   "source": [
    "my_list = [2, 3, 5, 7, 11]\n",
    "my_list"
   ]
  },
  {
   "cell_type": "code",
   "execution_count": null,
   "id": "dc999f98",
   "metadata": {
    "execution": {
     "iopub.execute_input": "2025-03-10T07:46:14.949169Z",
     "iopub.status.busy": "2025-03-10T07:46:14.948639Z",
     "iopub.status.idle": "2025-03-10T07:46:14.954244Z",
     "shell.execute_reply": "2025-03-10T07:46:14.953424Z"
    },
    "slideshow": {
     "slide_type": "fragment"
    }
   },
   "outputs": [],
   "source": [
    "days = [\"Sun\", \"Mon\", \"Tue\", \"Wed\", \"Thu\", \"Fri\", \"Sat\"]\n",
    "days"
   ]
  },
  {
   "cell_type": "code",
   "execution_count": null,
   "id": "3bfb1a14",
   "metadata": {
    "execution": {
     "iopub.execute_input": "2025-03-10T07:46:14.957330Z",
     "iopub.status.busy": "2025-03-10T07:46:14.957027Z",
     "iopub.status.idle": "2025-03-10T07:46:14.962255Z",
     "shell.execute_reply": "2025-03-10T07:46:14.961383Z"
    },
    "slideshow": {
     "slide_type": "fragment"
    }
   },
   "outputs": [],
   "source": [
    "pi = ['pi', 3.14159, True]\n",
    "pi"
   ]
  },
  {
   "cell_type": "markdown",
   "id": "d64a0a11",
   "metadata": {},
   "source": [
    "זוכרים את זה?\n",
    "\n",
    "#### אינדוקס וחיתוך (slicing) חלים גם על רשימות"
   ]
  },
  {
   "cell_type": "markdown",
   "id": "c0f8547f",
   "metadata": {},
   "source": [
    "### עדכון ערכים ברשימה"
   ]
  },
  {
   "cell_type": "code",
   "execution_count": null,
   "id": "e6f1d35f",
   "metadata": {
    "execution": {
     "iopub.execute_input": "2025-03-10T07:46:14.965706Z",
     "iopub.status.busy": "2025-03-10T07:46:14.965185Z",
     "iopub.status.idle": "2025-03-10T07:46:14.969347Z",
     "shell.execute_reply": "2025-03-10T07:46:14.968372Z"
    },
    "slideshow": {
     "slide_type": "fragment"
    }
   },
   "outputs": [],
   "source": [
    "my_list = [2, 3, 5, 7, 11]"
   ]
  },
  {
   "cell_type": "code",
   "execution_count": null,
   "id": "ed1e4644",
   "metadata": {
    "execution": {
     "iopub.execute_input": "2025-03-10T07:46:14.972539Z",
     "iopub.status.busy": "2025-03-10T07:46:14.972014Z",
     "iopub.status.idle": "2025-03-10T07:46:14.976719Z",
     "shell.execute_reply": "2025-03-10T07:46:14.975912Z"
    },
    "slideshow": {
     "slide_type": "fragment"
    }
   },
   "outputs": [],
   "source": [
    "print(my_list[0])\n",
    "print(my_list[4])\n",
    "print(my_list[-3])"
   ]
  },
  {
   "cell_type": "code",
   "execution_count": null,
   "id": "ec0cea9f",
   "metadata": {
    "execution": {
     "iopub.execute_input": "2025-03-10T07:46:14.979867Z",
     "iopub.status.busy": "2025-03-10T07:46:14.979353Z",
     "iopub.status.idle": "2025-03-10T07:46:16.457002Z",
     "shell.execute_reply": "2025-03-10T07:46:16.456004Z"
    },
    "slideshow": {
     "slide_type": "fragment"
    },
    "tags": [
     "raises-exception"
    ]
   },
   "outputs": [],
   "source": [
    "my_list[5]"
   ]
  },
  {
   "cell_type": "markdown",
   "id": "fb1d3526",
   "metadata": {},
   "source": [
    "- ניתן לשנות ערך ברשימה על ידי שימוש באינדקס והקצאת ערך חדש"
   ]
  },
  {
   "cell_type": "markdown",
   "id": "9a77ee7a",
   "metadata": {},
   "source": [
    "### אופרטור `in`"
   ]
  },
  {
   "cell_type": "markdown",
   "id": "6c98698f",
   "metadata": {},
   "source": [
    "- בודק אם ערך קיים ברשימה"
   ]
  },
  {
   "cell_type": "code",
   "execution_count": null,
   "id": "81aa4806",
   "metadata": {
    "execution": {
     "iopub.execute_input": "2025-03-10T07:46:16.461427Z",
     "iopub.status.busy": "2025-03-10T07:46:16.461124Z",
     "iopub.status.idle": "2025-03-10T07:46:16.465260Z",
     "shell.execute_reply": "2025-03-10T07:46:16.464587Z"
    },
    "slideshow": {
     "slide_type": "fragment"
    }
   },
   "outputs": [],
   "source": [
    "my_list = [1,2,3,4,5,6,7,8,9,10]"
   ]
  },
  {
   "cell_type": "code",
   "execution_count": null,
   "id": "422be6e4",
   "metadata": {
    "execution": {
     "iopub.execute_input": "2025-03-10T07:46:16.468037Z",
     "iopub.status.busy": "2025-03-10T07:46:16.467721Z",
     "iopub.status.idle": "2025-03-10T07:46:16.471698Z",
     "shell.execute_reply": "2025-03-10T07:46:16.470972Z"
    },
    "slideshow": {
     "slide_type": "fragment"
    }
   },
   "outputs": [],
   "source": [
    "print(my_list[1:5]) # slicing"
   ]
  },
  {
   "cell_type": "code",
   "execution_count": null,
   "id": "b0c4bfcc",
   "metadata": {
    "execution": {
     "iopub.execute_input": "2025-03-10T07:46:16.474475Z",
     "iopub.status.busy": "2025-03-10T07:46:16.474166Z",
     "iopub.status.idle": "2025-03-10T07:46:16.478139Z",
     "shell.execute_reply": "2025-03-10T07:46:16.477405Z"
    },
    "slideshow": {
     "slide_type": "fragment"
    }
   },
   "outputs": [],
   "source": [
    "print(my_list[0:-1]) # forward/backward indexing"
   ]
  },
  {
   "cell_type": "code",
   "execution_count": null,
   "id": "516f1895",
   "metadata": {
    "execution": {
     "iopub.execute_input": "2025-03-10T07:46:16.480763Z",
     "iopub.status.busy": "2025-03-10T07:46:16.480457Z",
     "iopub.status.idle": "2025-03-10T07:46:16.484305Z",
     "shell.execute_reply": "2025-03-10T07:46:16.483568Z"
    },
    "slideshow": {
     "slide_type": "fragment"
    }
   },
   "outputs": [],
   "source": [
    "print(my_list[::2]) # add a step"
   ]
  },
  {
   "cell_type": "code",
   "execution_count": null,
   "id": "0d5ee88c",
   "metadata": {
    "execution": {
     "iopub.execute_input": "2025-03-10T07:46:16.487061Z",
     "iopub.status.busy": "2025-03-10T07:46:16.486758Z",
     "iopub.status.idle": "2025-03-10T07:46:16.490540Z",
     "shell.execute_reply": "2025-03-10T07:46:16.489879Z"
    },
    "slideshow": {
     "slide_type": "subslide"
    }
   },
   "outputs": [],
   "source": [
    "print(my_list[::-1]) # reverse"
   ]
  },
  {
   "cell_type": "code",
   "execution_count": null,
   "id": "04d8b0a6",
   "metadata": {
    "execution": {
     "iopub.execute_input": "2025-03-10T07:46:16.493235Z",
     "iopub.status.busy": "2025-03-10T07:46:16.492933Z",
     "iopub.status.idle": "2025-03-10T07:46:16.496851Z",
     "shell.execute_reply": "2025-03-10T07:46:16.496122Z"
    },
    "slideshow": {
     "slide_type": "fragment"
    }
   },
   "outputs": [],
   "source": [
    "print(my_list[3:8:-2]) # output is an empty list. This is NOT an error"
   ]
  },
  {
   "cell_type": "code",
   "execution_count": null,
   "id": "3f756f73",
   "metadata": {
    "execution": {
     "iopub.execute_input": "2025-03-10T07:46:16.499664Z",
     "iopub.status.busy": "2025-03-10T07:46:16.499360Z",
     "iopub.status.idle": "2025-03-10T07:46:16.503084Z",
     "shell.execute_reply": "2025-03-10T07:46:16.502426Z"
    },
    "slideshow": {
     "slide_type": "fragment"
    }
   },
   "outputs": [],
   "source": [
    "print(my_list) # slicing does NOT change original list!"
   ]
  },
  {
   "cell_type": "markdown",
   "id": "8ac26c1c",
   "metadata": {},
   "source": [
    "### `range`"
   ]
  },
  {
   "cell_type": "code",
   "execution_count": null,
   "id": "c7408ec7",
   "metadata": {
    "execution": {
     "iopub.execute_input": "2025-03-10T07:46:16.505761Z",
     "iopub.status.busy": "2025-03-10T07:46:16.505458Z",
     "iopub.status.idle": "2025-03-10T07:46:16.509051Z",
     "shell.execute_reply": "2025-03-10T07:46:16.508335Z"
    },
    "slideshow": {
     "slide_type": "fragment"
    }
   },
   "outputs": [],
   "source": [
    "my_list = [1, 2, 3, 4, 5]\n",
    "new_list = my_list[::2]"
   ]
  },
  {
   "cell_type": "code",
   "execution_count": null,
   "id": "226402ab",
   "metadata": {
    "execution": {
     "iopub.execute_input": "2025-03-10T07:46:16.511870Z",
     "iopub.status.busy": "2025-03-10T07:46:16.511411Z",
     "iopub.status.idle": "2025-03-10T07:46:16.515857Z",
     "shell.execute_reply": "2025-03-10T07:46:16.515132Z"
    },
    "slideshow": {
     "slide_type": "fragment"
    }
   },
   "outputs": [],
   "source": [
    "print(new_list)"
   ]
  },
  {
   "cell_type": "code",
   "execution_count": null,
   "id": "ea588b26",
   "metadata": {
    "execution": {
     "iopub.execute_input": "2025-03-10T07:46:16.519277Z",
     "iopub.status.busy": "2025-03-10T07:46:16.518401Z",
     "iopub.status.idle": "2025-03-10T07:46:16.522864Z",
     "shell.execute_reply": "2025-03-10T07:46:16.522139Z"
    },
    "slideshow": {
     "slide_type": "fragment"
    }
   },
   "outputs": [],
   "source": [
    "print(my_list)"
   ]
  },
  {
   "cell_type": "markdown",
   "id": "a93c922c",
   "metadata": {},
   "source": [
    "- מחזיר אובייקט טווח (שניתן להמיר לרשימה)  \n",
    "- `range(stop)`  \n",
    "- `range(start, stop)`  \n",
    "- `range(start, stop, step)`"
   ]
  },
  {
   "cell_type": "code",
   "execution_count": null,
   "id": "897d5eb0",
   "metadata": {
    "execution": {
     "iopub.execute_input": "2025-03-10T07:46:16.526042Z",
     "iopub.status.busy": "2025-03-10T07:46:16.525419Z",
     "iopub.status.idle": "2025-03-10T07:46:16.529298Z",
     "shell.execute_reply": "2025-03-10T07:46:16.528635Z"
    },
    "slideshow": {
     "slide_type": "fragment"
    }
   },
   "outputs": [],
   "source": [
    "hello_list = ['h','e','l','l','o']\n",
    "hello_str='hello'"
   ]
  },
  {
   "cell_type": "code",
   "execution_count": null,
   "id": "3f30d49b",
   "metadata": {
    "execution": {
     "iopub.execute_input": "2025-03-10T07:46:16.532453Z",
     "iopub.status.busy": "2025-03-10T07:46:16.531794Z",
     "iopub.status.idle": "2025-03-10T07:46:16.536374Z",
     "shell.execute_reply": "2025-03-10T07:46:16.535632Z"
    },
    "slideshow": {
     "slide_type": "fragment"
    },
    "tags": [
     "raises-exception"
    ]
   },
   "outputs": [],
   "source": [
    "hello_str_new='hello'+'!'\n",
    "print('hello_str: ', hello_str)\n",
    "print('hello_str_new: ', hello_str_new)"
   ]
  },
  {
   "cell_type": "markdown",
   "id": "22bf1e3c",
   "metadata": {},
   "source": [
    "## לולאות"
   ]
  },
  {
   "cell_type": "code",
   "execution_count": null,
   "id": "3a203920",
   "metadata": {
    "execution": {
     "iopub.execute_input": "2025-03-10T07:46:16.539548Z",
     "iopub.status.busy": "2025-03-10T07:46:16.538900Z",
     "iopub.status.idle": "2025-03-10T07:46:16.543605Z",
     "shell.execute_reply": "2025-03-10T07:46:16.542881Z"
    },
    "slideshow": {
     "slide_type": "fragment"
    }
   },
   "outputs": [],
   "source": [
    "hello_list = ['h','e','l','l','o']\n",
    "hello_list_new=hello_list.append('!')\n",
    "print(hello_list)"
   ]
  },
  {
   "cell_type": "code",
   "execution_count": null,
   "id": "531b9fbc",
   "metadata": {
    "execution": {
     "iopub.execute_input": "2025-03-10T07:46:16.546551Z",
     "iopub.status.busy": "2025-03-10T07:46:16.545961Z",
     "iopub.status.idle": "2025-03-10T07:46:16.550155Z",
     "shell.execute_reply": "2025-03-10T07:46:16.549428Z"
    },
    "slideshow": {
     "slide_type": "fragment"
    }
   },
   "outputs": [],
   "source": [
    "print(hello_list_new)"
   ]
  },
  {
   "cell_type": "markdown",
   "id": "e74c2038",
   "metadata": {},
   "source": [
    "### לולאת `while`"
   ]
  },
  {
   "cell_type": "code",
   "execution_count": null,
   "id": "4ed726a4",
   "metadata": {
    "execution": {
     "iopub.execute_input": "2025-03-10T07:46:16.553178Z",
     "iopub.status.busy": "2025-03-10T07:46:16.552591Z",
     "iopub.status.idle": "2025-03-10T07:46:16.556828Z",
     "shell.execute_reply": "2025-03-10T07:46:16.556142Z"
    },
    "slideshow": {
     "slide_type": "fragment"
    }
   },
   "outputs": [],
   "source": [
    "hello_list = ['h','e','l','l','o']\n",
    "hello_list.append('!')\n",
    "print(hello_list)"
   ]
  },
  {
   "cell_type": "markdown",
   "id": "30834cfe",
   "metadata": {},
   "source": [
    "- לולאה שמתבצעת כל עוד תנאי מתקיים"
   ]
  },
  {
   "cell_type": "markdown",
   "id": "f2f47333",
   "metadata": {},
   "source": [
    "### לולאת `for`"
   ]
  },
  {
   "cell_type": "markdown",
   "id": "870faaa0",
   "metadata": {},
   "source": [
    "- לולאה שחוזרת על ערכים ברשימה, טווח או מחרוזת"
   ]
  },
  {
   "cell_type": "code",
   "execution_count": null,
   "id": "a894f94d",
   "metadata": {
    "execution": {
     "iopub.execute_input": "2025-03-10T07:46:16.560235Z",
     "iopub.status.busy": "2025-03-10T07:46:16.559418Z",
     "iopub.status.idle": "2025-03-10T07:46:16.582575Z",
     "shell.execute_reply": "2025-03-10T07:46:16.581678Z"
    },
    "slideshow": {
     "slide_type": "fragment"
    },
    "tags": [
     "raises-exception"
    ]
   },
   "outputs": [],
   "source": [
    "hello_list = ['h','e','l','l','o']\n",
    "hello_list.remove('e')\n",
    "print(hello_list)\n",
    "hello_list.remove('e')\n",
    "print(hello_list)"
   ]
  },
  {
   "cell_type": "markdown",
   "id": "b6d05ad4",
   "metadata": {},
   "source": [
    "### לולאת `for` עם `range`"
   ]
  },
  {
   "cell_type": "markdown",
   "id": "88ef9cb4",
   "metadata": {},
   "source": [
    "### תרגול"
   ]
  },
  {
   "cell_type": "code",
   "execution_count": null,
   "id": "8efee7df",
   "metadata": {
    "execution": {
     "iopub.execute_input": "2025-03-10T07:46:16.585769Z",
     "iopub.status.busy": "2025-03-10T07:46:16.585422Z",
     "iopub.status.idle": "2025-03-10T07:46:16.590570Z",
     "shell.execute_reply": "2025-03-10T07:46:16.589661Z"
    },
    "slideshow": {
     "slide_type": "fragment"
    },
    "tags": []
   },
   "outputs": [],
   "source": [
    "hello_list = ['h','e','l','l','o']\n",
    "res=hello_list.pop(0)\n",
    "print(hello_list, res)\n",
    "hello_list.pop() # Note that here we do not assign the popped element to res\n",
    "print(hello_list, res)"
   ]
  },
  {
   "cell_type": "markdown",
   "id": "d6167568",
   "metadata": {},
   "source": [
    "- קלט: מספר שלם חיובי n  \n",
    "- פלט: סכום כל המספרים מ-1 עד n"
   ]
  },
  {
   "cell_type": "code",
   "execution_count": null,
   "id": "1a12caea",
   "metadata": {
    "execution": {
     "iopub.execute_input": "2025-03-10T07:46:16.593668Z",
     "iopub.status.busy": "2025-03-10T07:46:16.593045Z",
     "iopub.status.idle": "2025-03-10T07:46:16.598580Z",
     "shell.execute_reply": "2025-03-10T07:46:16.597751Z"
    },
    "slideshow": {
     "slide_type": "fragment"
    },
    "tags": []
   },
   "outputs": [],
   "source": [
    "mat = [[1, 2, 3], [4, 5, 6]]\n",
    "mat[1]"
   ]
  },
  {
   "cell_type": "code",
   "execution_count": null,
   "id": "3088bc7d",
   "metadata": {
    "execution": {
     "iopub.execute_input": "2025-03-10T07:46:16.601897Z",
     "iopub.status.busy": "2025-03-10T07:46:16.601214Z",
     "iopub.status.idle": "2025-03-10T07:46:16.606831Z",
     "shell.execute_reply": "2025-03-10T07:46:16.606003Z"
    },
    "slideshow": {
     "slide_type": "fragment"
    }
   },
   "outputs": [],
   "source": [
    "mat[1][2]"
   ]
  },
  {
   "cell_type": "code",
   "execution_count": null,
   "id": "263634e4",
   "metadata": {
    "execution": {
     "iopub.execute_input": "2025-03-10T07:46:16.610190Z",
     "iopub.status.busy": "2025-03-10T07:46:16.609508Z",
     "iopub.status.idle": "2025-03-10T07:46:16.613882Z",
     "shell.execute_reply": "2025-03-10T07:46:16.612975Z"
    },
    "slideshow": {
     "slide_type": "fragment"
    }
   },
   "outputs": [],
   "source": [
    "print(len(mat), len(mat[0]))"
   ]
  },
  {
   "cell_type": "markdown",
   "id": "e6a5420b",
   "metadata": {},
   "source": [
    "- קלט: מחרוזת  \n",
    "- פלט: האם כל התווים במחרוזת הם ספרות"
   ]
  },
  {
   "cell_type": "markdown",
   "id": "7ef3351f",
   "metadata": {},
   "source": [
    "- קלט: מספר שלם  \n",
    "- פלט: האם המספר ראשוני"
   ]
  },
  {
   "cell_type": "code",
   "execution_count": null,
   "id": "3300bd03",
   "metadata": {
    "execution": {
     "iopub.execute_input": "2025-03-10T07:46:16.617256Z",
     "iopub.status.busy": "2025-03-10T07:46:16.616616Z",
     "iopub.status.idle": "2025-03-10T07:46:16.621969Z",
     "shell.execute_reply": "2025-03-10T07:46:16.621138Z"
    },
    "slideshow": {
     "slide_type": "fragment"
    }
   },
   "outputs": [],
   "source": [
    "range(10)"
   ]
  },
  {
   "cell_type": "code",
   "execution_count": null,
   "id": "11e9fe1b",
   "metadata": {
    "execution": {
     "iopub.execute_input": "2025-03-10T07:46:16.624995Z",
     "iopub.status.busy": "2025-03-10T07:46:16.624312Z",
     "iopub.status.idle": "2025-03-10T07:46:16.630110Z",
     "shell.execute_reply": "2025-03-10T07:46:16.629226Z"
    },
    "slideshow": {
     "slide_type": "fragment"
    }
   },
   "outputs": [],
   "source": [
    "list(range(10))"
   ]
  },
  {
   "cell_type": "markdown",
   "id": "8b1a2a77",
   "metadata": {},
   "source": [
    "### דוגמה: פלינדרום\n",
    "\n",
    "פלינדרום הוא מחרוזת שנקראת אותו דבר מההתחלה לסוף ומהסוף להתחלה (כגון \"abba\", \"121\")"
   ]
  },
  {
   "cell_type": "code",
   "execution_count": null,
   "id": "3299e842",
   "metadata": {
    "execution": {
     "iopub.execute_input": "2025-03-10T07:46:16.633243Z",
     "iopub.status.busy": "2025-03-10T07:46:16.632562Z",
     "iopub.status.idle": "2025-03-10T07:46:16.638322Z",
     "shell.execute_reply": "2025-03-10T07:46:16.637495Z"
    },
    "slideshow": {
     "slide_type": "fragment"
    }
   },
   "outputs": [],
   "source": [
    "list(range(0,10,2))"
   ]
  },
  {
   "cell_type": "code",
   "execution_count": null,
   "id": "9b8ff36d",
   "metadata": {
    "execution": {
     "iopub.execute_input": "2025-03-10T07:46:16.641311Z",
     "iopub.status.busy": "2025-03-10T07:46:16.640697Z",
     "iopub.status.idle": "2025-03-10T07:46:16.646550Z",
     "shell.execute_reply": "2025-03-10T07:46:16.645666Z"
    },
    "slideshow": {
     "slide_type": "fragment"
    }
   },
   "outputs": [],
   "source": [
    "list(range(10,0,-2))"
   ]
  },
  {
   "cell_type": "code",
   "execution_count": null,
   "id": "8759bee6",
   "metadata": {
    "execution": {
     "iopub.execute_input": "2025-03-10T07:46:16.649548Z",
     "iopub.status.busy": "2025-03-10T07:46:16.648920Z",
     "iopub.status.idle": "2025-03-10T07:46:16.654700Z",
     "shell.execute_reply": "2025-03-10T07:46:16.653901Z"
    },
    "slideshow": {
     "slide_type": "fragment"
    }
   },
   "outputs": [],
   "source": [
    "list(range(0, 10, -1))"
   ]
  },
  {
   "cell_type": "code",
   "execution_count": null,
   "id": "21d15113",
   "metadata": {
    "execution": {
     "iopub.execute_input": "2025-03-10T07:46:16.657952Z",
     "iopub.status.busy": "2025-03-10T07:46:16.657340Z",
     "iopub.status.idle": "2025-03-10T07:46:16.676092Z",
     "shell.execute_reply": "2025-03-10T07:46:16.675280Z"
    },
    "slideshow": {
     "slide_type": "fragment"
    },
    "tags": [
     "raises-exception"
    ]
   },
   "outputs": [],
   "source": [
    "range(0,10,0)"
   ]
  },
  {
   "cell_type": "markdown",
   "id": "305cc07d",
   "metadata": {},
   "source": [
    "כתוב **פונקציה** שמחזירה True אם מחרוזת נתונה היא פלינדרום, אחרת False."
   ]
  },
  {
   "cell_type": "markdown",
   "id": "77109354",
   "metadata": {},
   "source": [
    "### דוגמה: פלינדרום (המשך)\n",
    "\n",
    "בואו נתחיל בלהפוך מחרוזת"
   ]
  },
  {
   "cell_type": "markdown",
   "id": "92d0d840",
   "metadata": {},
   "source": [
    "כעת בקוד..."
   ]
  },
  {
   "cell_type": "markdown",
   "id": "c9dcff16",
   "metadata": {},
   "source": [
    "### סיכום של שיטות `list`"
   ]
  },
  {
   "cell_type": "code",
   "execution_count": null,
   "id": "e768f00c",
   "metadata": {
    "execution": {
     "iopub.execute_input": "2025-03-10T07:46:16.679478Z",
     "iopub.status.busy": "2025-03-10T07:46:16.679109Z",
     "iopub.status.idle": "2025-03-10T07:46:16.683464Z",
     "shell.execute_reply": "2025-03-10T07:46:16.682623Z"
    },
    "slideshow": {
     "slide_type": "fragment"
    }
   },
   "outputs": [],
   "source": [
    "def is_palindrome(text):\n",
    "    return text == text[::-1]"
   ]
  },
  {
   "cell_type": "code",
   "execution_count": null,
   "id": "c8516119",
   "metadata": {
    "execution": {
     "iopub.execute_input": "2025-03-10T07:46:16.686744Z",
     "iopub.status.busy": "2025-03-10T07:46:16.686164Z",
     "iopub.status.idle": "2025-03-10T07:46:16.690650Z",
     "shell.execute_reply": "2025-03-10T07:46:16.689753Z"
    },
    "slideshow": {
     "slide_type": "fragment"
    }
   },
   "outputs": [],
   "source": [
    "print(is_palindrome('abba'))\n",
    "print(is_palindrome('abbc'))"
   ]
  },
  {
   "cell_type": "markdown",
   "id": "f098ab5d",
   "metadata": {},
   "source": [
    "- `append`: מוסיף איבר לסוף הרשימה  \n",
    "- `insert`: מוסיף איבר במיקום מסוים  \n",
    "- `pop`: מסיר ומחזיר איבר  \n",
    "- `remove`: מסיר איבר לפי ערך  \n",
    "- `index`: מחזיר את המיקום של איבר ראשון שמופיע  \n",
    "- `count`: סופר את מספר ההופעות של איבר  \n",
    "- `sort`: ממיין את הרשימה  \n",
    "- `reverse`: הופך את הסדר של הרשימה  \n",
    "- `copy`: יוצר עותק שטחי של הרשימה  \n",
    "- `clear`: מוחק את כל האיברים מהרשימה"
   ]
  },
  {
   "cell_type": "markdown",
   "id": "399aa367",
   "metadata": {},
   "source": []
  },
  {
   "cell_type": "markdown",
   "id": "038fc193",
   "metadata": {},
   "source": [
    "- All commands are applied to an existing list named lst\n",
    "- Note that `index` and `count` do not change the list\n"
   ]
  },
  {
   "cell_type": "markdown",
   "id": "78a79439",
   "metadata": {},
   "source": [
    "### Useful functions on lists"
   ]
  },
  {
   "cell_type": "markdown",
   "id": "9b5881db",
   "metadata": {},
   "source": [
    "- len() – returns the list’s length \n",
    "- sum() – returns a sum of all list elements\n",
    "- min() – returns the minimal element\n",
    "- max() – returns the maximal element\n",
    "- in – returns True if element in list\n",
    "\n",
    "Complete documentation on Python lists is available [here](https://docs.python.org/3/tutorial/datastructures.html)"
   ]
  },
  {
   "cell_type": "markdown",
   "id": "6f5c1e07",
   "metadata": {},
   "source": [
    "### Loops: `for` and `while`"
   ]
  },
  {
   "cell_type": "markdown",
   "id": "08315109",
   "metadata": {},
   "source": [
    "#### Definition: repeatedly use the same instruction until a condition is met."
   ]
  },
  {
   "cell_type": "markdown",
   "id": "56e7e6f4",
   "metadata": {},
   "source": [
    "### `while` loops"
   ]
  },
  {
   "cell_type": "markdown",
   "id": "f1a8b42f",
   "metadata": {},
   "source": [
    "Used to repeat the same instructions until the loop's **boolean condition** yields `False`\n",
    "\n",
    "```python\n",
    "while expression:\n",
    "    statement1\n",
    "    statement2\n",
    "    …\n",
    "rest of code…\n",
    "```\n",
    "#### Indentation determines the block of the iteration\n",
    "\n",
    "\n",
    "- Iteration 0: \n",
    "    - Execute statement1, statement2, …\n",
    "- Iteration 1: \n",
    "    - Execute statement1, statement2, …  \n",
    "\n",
    "…\n",
    "\n",
    "Expression is `False` $\\rightarrow$ \"Jump\" to the rest of the code (i.e leaves the loop)\n"
   ]
  },
  {
   "cell_type": "markdown",
   "id": "711b1e19",
   "metadata": {},
   "source": [
    "### `while` workflow\n",
    "\n"
   ]
  },
  {
   "cell_type": "markdown",
   "id": "21c52cd3",
   "metadata": {},
   "source": [
    "### Example: Find the smallest divisor\n",
    "- 10 $\\rightarrow$ 2 \n",
    "- 221 $\\rightarrow$ 13"
   ]
  },
  {
   "cell_type": "code",
   "execution_count": null,
   "id": "b22fc253",
   "metadata": {
    "execution": {
     "iopub.execute_input": "2025-03-10T07:46:16.695142Z",
     "iopub.status.busy": "2025-03-10T07:46:16.694557Z",
     "iopub.status.idle": "2025-03-10T07:46:16.699398Z",
     "shell.execute_reply": "2025-03-10T07:46:16.698494Z"
    },
    "slideshow": {
     "slide_type": "fragment"
    }
   },
   "outputs": [],
   "source": [
    "n = 2025\n",
    "div = 2\n",
    "while n % div != 0:\n",
    "    div = div + 1\n",
    "print(\"Smallest divisor of\", n, \"is\", div)"
   ]
  },
  {
   "cell_type": "markdown",
   "id": "c57f1d8f",
   "metadata": {},
   "source": [
    "### Factorial definition:\n",
    "3!=1⋅2⋅3  \n",
    "6!=1⋅2⋅3⋅4⋅5⋅6  \n",
    "𝑛!=1⋅2⋅…⋅(𝑛−1)⋅𝑛"
   ]
  },
  {
   "cell_type": "code",
   "execution_count": null,
   "id": "04f4dc49",
   "metadata": {
    "execution": {
     "iopub.execute_input": "2025-03-10T07:46:16.703084Z",
     "iopub.status.busy": "2025-03-10T07:46:16.702521Z",
     "iopub.status.idle": "2025-03-10T07:46:16.707648Z",
     "shell.execute_reply": "2025-03-10T07:46:16.706704Z"
    },
    "slideshow": {
     "slide_type": "fragment"
    }
   },
   "outputs": [],
   "source": [
    "# factorial implementation with \"while\" loop\n",
    "n = 7\n",
    "\n",
    "fact = 1\n",
    "i = 1\n",
    "while i <= n:\n",
    "    fact = fact * i\n",
    "    i = i + 1\n",
    "print(str(n)+\"!=\"+str(fact))"
   ]
  },
  {
   "cell_type": "markdown",
   "id": "c687eb4f",
   "metadata": {},
   "source": [
    "### Infinite loop"
   ]
  },
  {
   "cell_type": "markdown",
   "id": "cc79508e",
   "metadata": {},
   "source": [
    "```python\n",
    "i = 1\n",
    "while i < 137:\n",
    "    print(i)\n",
    "```"
   ]
  },
  {
   "cell_type": "markdown",
   "id": "54409d55",
   "metadata": {},
   "source": [
    "### `for` loop\n",
    "#### Syntax\n",
    "```python\n",
    "for element in iterable:\n",
    "    statement1\n",
    "    statement2\n",
    "    …\n",
    "rest of code…\n",
    "```\n",
    "#### Run over all elements in iterable (list, string, etc.) \n",
    "- Iteration 0: Assign element = iterable[0]\n",
    "    - Execute statement1, statement2, …\n",
    "- Iteration 1: Assign element = iterable[1]\n",
    "    - Execute statement1, statement2, …\n",
    "\n",
    "…\n",
    "- No more elements in the list $\\rightarrow$ \"jump\" to the rest of the code (i.e leave the loop)"
   ]
  },
  {
   "cell_type": "markdown",
   "id": "dcf4218c",
   "metadata": {},
   "source": [
    "### `for` loop\n",
    "```python\n",
    "for element in iterable:\n",
    "    statement1\n",
    "    statement2\n",
    "    …\n",
    "rest of code…\n",
    "```\n",
    "\n",
    "- The variable `element` is defined by the loop!\n",
    "- Indentation determines the block of the iteration"
   ]
  },
  {
   "cell_type": "markdown",
   "id": "b2e79a08",
   "metadata": {},
   "source": [
    "### `for` loop example #1"
   ]
  },
  {
   "cell_type": "code",
   "execution_count": null,
   "id": "902a736e",
   "metadata": {
    "execution": {
     "iopub.execute_input": "2025-03-10T07:46:16.711569Z",
     "iopub.status.busy": "2025-03-10T07:46:16.711007Z",
     "iopub.status.idle": "2025-03-10T07:46:16.716505Z",
     "shell.execute_reply": "2025-03-10T07:46:16.715582Z"
    },
    "slideshow": {
     "slide_type": "fragment"
    }
   },
   "outputs": [],
   "source": [
    "lst = ['python', 2025, 'TAU']\n",
    "\n",
    "for elem in lst:\n",
    "        print(\"current element:\", elem)\n",
    "\n",
    "## Using `while` loop        \n",
    "i=0\n",
    "while i < len(lst):\n",
    "        elem=lst[i]\n",
    "        print(\"current element:\", elem)\n",
    "        i=i+1"
   ]
  },
  {
   "cell_type": "markdown",
   "id": "368553f4",
   "metadata": {},
   "source": [
    "### `for` loop example #2"
   ]
  },
  {
   "cell_type": "code",
   "execution_count": null,
   "id": "47351f76",
   "metadata": {
    "execution": {
     "iopub.execute_input": "2025-03-10T07:46:16.720151Z",
     "iopub.status.busy": "2025-03-10T07:46:16.719586Z",
     "iopub.status.idle": "2025-03-10T07:46:16.724498Z",
     "shell.execute_reply": "2025-03-10T07:46:16.723581Z"
    },
    "slideshow": {
     "slide_type": "fragment"
    }
   },
   "outputs": [],
   "source": [
    "partial_sum = 0\n",
    "numbers = range(1,101)\n",
    "for num in numbers:\n",
    "    partial_sum = partial_sum + num\n",
    "print(\"The sum is\", partial_sum)\n"
   ]
  },
  {
   "cell_type": "markdown",
   "id": "442ab079",
   "metadata": {},
   "source": [
    "Or simply"
   ]
  },
  {
   "cell_type": "code",
   "execution_count": null,
   "id": "59bd821e",
   "metadata": {
    "execution": {
     "iopub.execute_input": "2025-03-10T07:46:16.728200Z",
     "iopub.status.busy": "2025-03-10T07:46:16.727603Z",
     "iopub.status.idle": "2025-03-10T07:46:16.733667Z",
     "shell.execute_reply": "2025-03-10T07:46:16.732916Z"
    },
    "slideshow": {
     "slide_type": "fragment"
    }
   },
   "outputs": [],
   "source": [
    "sum(range(1,101))"
   ]
  },
  {
   "cell_type": "markdown",
   "id": "8eec6783",
   "metadata": {},
   "source": [
    "### Factorial with `for` loop"
   ]
  },
  {
   "cell_type": "markdown",
   "id": "d2f6ae81",
   "metadata": {},
   "source": [
    "reminder:"
   ]
  },
  {
   "cell_type": "code",
   "execution_count": null,
   "id": "375af96f",
   "metadata": {
    "execution": {
     "iopub.execute_input": "2025-03-10T07:46:16.737288Z",
     "iopub.status.busy": "2025-03-10T07:46:16.736918Z",
     "iopub.status.idle": "2025-03-10T07:46:16.741431Z",
     "shell.execute_reply": "2025-03-10T07:46:16.740503Z"
    },
    "slideshow": {
     "slide_type": "fragment"
    }
   },
   "outputs": [],
   "source": [
    "n = 7\n",
    "fact = 1\n",
    "i = 1\n",
    "while i <= n:\n",
    "    fact = fact * i\n",
    "    i = i + 1"
   ]
  },
  {
   "cell_type": "markdown",
   "id": "e04a2201",
   "metadata": {},
   "source": [
    "Let's do it using `for` loop"
   ]
  },
  {
   "cell_type": "code",
   "execution_count": null,
   "id": "95137b88",
   "metadata": {
    "execution": {
     "iopub.execute_input": "2025-03-10T07:46:16.745392Z",
     "iopub.status.busy": "2025-03-10T07:46:16.744909Z",
     "iopub.status.idle": "2025-03-10T07:46:16.750387Z",
     "shell.execute_reply": "2025-03-10T07:46:16.749579Z"
    },
    "slideshow": {
     "slide_type": "fragment"
    }
   },
   "outputs": [],
   "source": [
    "n  = 7\n",
    "\n",
    "fact = 1\n",
    "for i in range(2, n+1):\n",
    "    fact = fact * i\n",
    "\n",
    "print(n, \"! =\", fact)"
   ]
  },
  {
   "cell_type": "markdown",
   "id": "749562aa",
   "metadata": {},
   "source": [
    "fact *= i  is equivalent to fact = fact * i"
   ]
  },
  {
   "cell_type": "markdown",
   "id": "117f598c",
   "metadata": {},
   "source": [
    "### Factorial with `for` loop and function"
   ]
  },
  {
   "cell_type": "code",
   "execution_count": null,
   "id": "e6f2a65a",
   "metadata": {
    "execution": {
     "iopub.execute_input": "2025-03-10T07:46:16.753482Z",
     "iopub.status.busy": "2025-03-10T07:46:16.753012Z",
     "iopub.status.idle": "2025-03-10T07:46:16.757406Z",
     "shell.execute_reply": "2025-03-10T07:46:16.756639Z"
    },
    "slideshow": {
     "slide_type": "fragment"
    }
   },
   "outputs": [],
   "source": [
    "def factorial(n):\n",
    "    fact = 1\n",
    "    for i in range(1,n+1):\n",
    "        fact *= i\n",
    "    return fact"
   ]
  },
  {
   "cell_type": "code",
   "execution_count": null,
   "id": "3679cb73",
   "metadata": {
    "execution": {
     "iopub.execute_input": "2025-03-10T07:46:16.760409Z",
     "iopub.status.busy": "2025-03-10T07:46:16.759849Z",
     "iopub.status.idle": "2025-03-10T07:46:16.764025Z",
     "shell.execute_reply": "2025-03-10T07:46:16.763298Z"
    },
    "slideshow": {
     "slide_type": "fragment"
    }
   },
   "outputs": [],
   "source": [
    "print(\"5!+3!+6! =\", factorial(5) + factorial(3) + factorial(6))"
   ]
  },
  {
   "cell_type": "markdown",
   "id": "ae0e0aaf",
   "metadata": {},
   "source": [
    "Avoiding code duplication"
   ]
  },
  {
   "cell_type": "markdown",
   "id": "8f6c827f",
   "metadata": {},
   "source": [
    "- n, fact and i are the function's “local variables”  \n",
    "    - Exist only within the scope of the function and disappear when it ends\n"
   ]
  },
  {
   "cell_type": "markdown",
   "id": "6d233fc3",
   "metadata": {},
   "source": [
    "###  Iteration can also be done on a string"
   ]
  },
  {
   "cell_type": "code",
   "execution_count": null,
   "id": "d02d1fbb",
   "metadata": {
    "execution": {
     "iopub.execute_input": "2025-03-10T07:46:16.767086Z",
     "iopub.status.busy": "2025-03-10T07:46:16.766787Z",
     "iopub.status.idle": "2025-03-10T07:46:16.770931Z",
     "shell.execute_reply": "2025-03-10T07:46:16.770209Z"
    },
    "slideshow": {
     "slide_type": "fragment"
    }
   },
   "outputs": [],
   "source": [
    "name = \"Rick\"\n",
    "for letter in name:\n",
    "    print(\"Give me\", letter)\n",
    "print(\"What did we get?\", name)"
   ]
  },
  {
   "cell_type": "markdown",
   "id": "054ee40a",
   "metadata": {},
   "source": [
    "### The `break` keyword \n",
    "- Break terminates the nearest enclosing loop, skipping the code that follows the break inside the loop.\n",
    "- Used for getting out of loops when a condition occurs."
   ]
  },
  {
   "cell_type": "code",
   "execution_count": null,
   "id": "5bac8ac1",
   "metadata": {
    "execution": {
     "iopub.execute_input": "2025-03-10T07:46:16.773832Z",
     "iopub.status.busy": "2025-03-10T07:46:16.773536Z",
     "iopub.status.idle": "2025-03-10T07:46:16.778086Z",
     "shell.execute_reply": "2025-03-10T07:46:16.777353Z"
    },
    "slideshow": {
     "slide_type": "fragment"
    }
   },
   "outputs": [],
   "source": [
    "lst = [4, 2, -6, 3,-9]\n",
    "for elem in lst:\n",
    "    if elem < 0: \n",
    "        print(\"First negative number is\", elem)\n",
    "        break\n",
    "    print(\"current number is: \", elem)"
   ]
  },
  {
   "cell_type": "markdown",
   "id": "277064da",
   "metadata": {},
   "source": [
    "###  Example: find smallest divisor using for loop"
   ]
  },
  {
   "cell_type": "code",
   "execution_count": null,
   "id": "fa7af03a",
   "metadata": {
    "execution": {
     "iopub.execute_input": "2025-03-10T07:46:16.780983Z",
     "iopub.status.busy": "2025-03-10T07:46:16.780679Z",
     "iopub.status.idle": "2025-03-10T07:46:16.784917Z",
     "shell.execute_reply": "2025-03-10T07:46:16.784161Z"
    },
    "slideshow": {
     "slide_type": "fragment"
    }
   },
   "outputs": [],
   "source": [
    "def smallest_divisor(n):\n",
    "    for div in range(2, n+1):\n",
    "        if n % div == 0:\n",
    "            break\n",
    "    return div"
   ]
  },
  {
   "cell_type": "code",
   "execution_count": null,
   "id": "10d069b2",
   "metadata": {
    "execution": {
     "iopub.execute_input": "2025-03-10T07:46:16.787790Z",
     "iopub.status.busy": "2025-03-10T07:46:16.787465Z",
     "iopub.status.idle": "2025-03-10T07:46:16.792931Z",
     "shell.execute_reply": "2025-03-10T07:46:16.792184Z"
    },
    "slideshow": {
     "slide_type": "fragment"
    }
   },
   "outputs": [],
   "source": [
    "n=35 # 5*7 \n",
    "smallest_divisor(n)"
   ]
  },
  {
   "cell_type": "markdown",
   "id": "ace1a326",
   "metadata": {},
   "source": [
    "### Determine if `n` is prime"
   ]
  },
  {
   "cell_type": "code",
   "execution_count": null,
   "id": "8746dbf2",
   "metadata": {
    "execution": {
     "iopub.execute_input": "2025-03-10T07:46:16.795785Z",
     "iopub.status.busy": "2025-03-10T07:46:16.795476Z",
     "iopub.status.idle": "2025-03-10T07:46:16.799252Z",
     "shell.execute_reply": "2025-03-10T07:46:16.798512Z"
    },
    "slideshow": {
     "slide_type": "fragment"
    }
   },
   "outputs": [],
   "source": [
    "n=25"
   ]
  },
  {
   "cell_type": "code",
   "execution_count": null,
   "id": "6a9f19e7",
   "metadata": {
    "execution": {
     "iopub.execute_input": "2025-03-10T07:46:16.802359Z",
     "iopub.status.busy": "2025-03-10T07:46:16.801837Z",
     "iopub.status.idle": "2025-03-10T07:46:16.806494Z",
     "shell.execute_reply": "2025-03-10T07:46:16.805741Z"
    },
    "slideshow": {
     "slide_type": "fragment"
    }
   },
   "outputs": [],
   "source": [
    "for div in range(2,n): \n",
    "    if n % div == 0:\n",
    "        break\n",
    "if n % div == 0: \n",
    "    print(n, \"is not prime\")\n",
    "else:\n",
    "    print(n, \"is prime\")"
   ]
  },
  {
   "cell_type": "markdown",
   "id": "b8eee16b",
   "metadata": {},
   "source": [
    "### Determine if `n` is prime (improved)"
   ]
  },
  {
   "cell_type": "code",
   "execution_count": null,
   "id": "a3b19636",
   "metadata": {
    "execution": {
     "iopub.execute_input": "2025-03-10T07:46:16.809587Z",
     "iopub.status.busy": "2025-03-10T07:46:16.809103Z",
     "iopub.status.idle": "2025-03-10T07:46:16.813944Z",
     "shell.execute_reply": "2025-03-10T07:46:16.813200Z"
    },
    "slideshow": {
     "slide_type": "fragment"
    }
   },
   "outputs": [],
   "source": [
    "n=25\n",
    "for div in range(2,int(n**0.5)): \n",
    "    if n % div == 0:\n",
    "        break\n",
    "if n % div == 0: \n",
    "    print(n, \"is not prime\")\n",
    "else:\n",
    "    print(n, \"is prime\")\n"
   ]
  },
  {
   "cell_type": "markdown",
   "id": "1f317678",
   "metadata": {},
   "source": [
    "where is the bug?"
   ]
  },
  {
   "cell_type": "markdown",
   "id": "4479b8bf",
   "metadata": {},
   "source": [
    "### Determine if `n` is prime (fixed)"
   ]
  },
  {
   "cell_type": "code",
   "execution_count": null,
   "id": "ca9bdd03",
   "metadata": {
    "execution": {
     "iopub.execute_input": "2025-03-10T07:46:16.816950Z",
     "iopub.status.busy": "2025-03-10T07:46:16.816644Z",
     "iopub.status.idle": "2025-03-10T07:46:16.821657Z",
     "shell.execute_reply": "2025-03-10T07:46:16.820840Z"
    },
    "slideshow": {
     "slide_type": "subslide"
    }
   },
   "outputs": [],
   "source": [
    "n=25\n",
    "for div in range(2,int(n**0.5)+1): # Note the +1!\n",
    "    if n % div == 0:\n",
    "        break\n",
    "if n % div == 0: \n",
    "    print(n, \"is not prime\")\n",
    "else:\n",
    "    print(n, \"is prime\")"
   ]
  },
  {
   "cell_type": "markdown",
   "id": "5516111e",
   "metadata": {},
   "source": [
    "### The `continue` keyword\n",
    "- The continue statement skips the rest of the current iteration and continues to the next one."
   ]
  },
  {
   "cell_type": "markdown",
   "id": "40f81273",
   "metadata": {},
   "source": [
    "### `continue` Example "
   ]
  },
  {
   "cell_type": "markdown",
   "id": "9f83891a",
   "metadata": {},
   "source": [
    "given a list, return a new list of the unique elements"
   ]
  },
  {
   "cell_type": "code",
   "execution_count": null,
   "id": "2885e527",
   "metadata": {
    "execution": {
     "iopub.execute_input": "2025-03-10T07:46:16.824892Z",
     "iopub.status.busy": "2025-03-10T07:46:16.824401Z",
     "iopub.status.idle": "2025-03-10T07:46:16.828721Z",
     "shell.execute_reply": "2025-03-10T07:46:16.827964Z"
    },
    "slideshow": {
     "slide_type": "fragment"
    }
   },
   "outputs": [],
   "source": [
    "def unique_list(lst):\n",
    "    uniques = []\n",
    "    for x in lst: \n",
    "        if x in uniques: \n",
    "            continue \n",
    "        uniques.append(x)\n",
    "    return uniques"
   ]
  },
  {
   "cell_type": "code",
   "execution_count": null,
   "id": "437c5e02",
   "metadata": {
    "execution": {
     "iopub.execute_input": "2025-03-10T07:46:16.831555Z",
     "iopub.status.busy": "2025-03-10T07:46:16.831248Z",
     "iopub.status.idle": "2025-03-10T07:46:16.837016Z",
     "shell.execute_reply": "2025-03-10T07:46:16.836166Z"
    },
    "slideshow": {
     "slide_type": "fragment"
    }
   },
   "outputs": [],
   "source": [
    "unique_list([1,4,5,8,3,5,7,1,2])"
   ]
  },
  {
   "cell_type": "markdown",
   "id": "0a3a9a42",
   "metadata": {},
   "source": [
    "### If time permits: palindrom with loops"
   ]
  },
  {
   "cell_type": "code",
   "execution_count": null,
   "id": "f86eb3c5",
   "metadata": {
    "slideshow": {
     "slide_type": "fragment"
    }
   },
   "outputs": [],
   "source": [
    "def is_palindrome(text):\n",
    "    n = len(text)\n",
    "    for i in range(n // 2):\n",
    "        if text[i] != text[n - i - 1]:\n",
    "            return False\n",
    "    return True\n",
    "\n",
    "print(is_palindrome('abcba'))\n",
    "print(is_palindrome('abbc'))"
   ]
  },
  {
   "cell_type": "markdown",
   "id": "596cf140",
   "metadata": {},
   "source": [
    "## That's all for now... 🥴️"
   ]
  }
 ],
 "metadata": {},
 "nbformat": 4,
 "nbformat_minor": 5
}
