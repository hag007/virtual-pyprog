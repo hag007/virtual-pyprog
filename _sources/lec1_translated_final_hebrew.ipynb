{
 "cells": [
  {
   "cell_type": "code",
   "execution_count": null,
   "id": "2d7af840",
   "metadata": {
    "execution": {
     "iopub.execute_input": "2025-03-10T09:57:47.777097Z",
     "iopub.status.busy": "2025-03-10T09:57:47.776739Z",
     "iopub.status.idle": "2025-03-10T09:57:47.793046Z",
     "shell.execute_reply": "2025-03-10T09:57:47.792250Z"
    },
    "slideshow": {
     "slide_type": "skip"
    },
    "tags": [
     "hide-cell"
    ]
   },
   "outputs": [],
   "source": [
    "%%html\n",
    "<style>\n",
    "table {display: inline-block}\n",
    "</style>\n"
   ]
  },
  {
   "cell_type": "markdown",
   "id": "cc9d4b83",
   "metadata": {
    "slideshow": {
     "slide_type": "slide"
    }
   },
   "source": [
    "# מבוא"
   ]
  },
  {
   "cell_type": "markdown",
   "id": "2b248a5b",
   "metadata": {
    "slideshow": {
     "slide_type": "slide"
    }
   },
   "source": [
    "## תכנות ב-Python למהנדסים\n",
    "### אוניברסיטת תל אביב / 0509-1820 / אביב 2025"
   ]
  },
  {
   "cell_type": "markdown",
   "id": "b53c5d17",
   "metadata": {
    "slideshow": {
     "slide_type": "slide"
    }
   },
   "source": [
    "### מטרות הקורס"
   ]
  },
  {
   "cell_type": "markdown",
   "id": "de944ecd",
   "metadata": {
    "slideshow": {
     "slide_type": "slide"
    }
   },
   "source": [
    "- לפיתוח בסיס של **תכנות** ו **אלגוריתמית** מיומנויות\n",
    "    - לא כיצד חומרת מחשב פועלת"
   ]
  },
  {
   "cell_type": "markdown",
   "id": "e34e018f",
   "metadata": {
    "slideshow": {
     "slide_type": "subslide"
    }
   },
   "source": [
    "### תוכנית הלימודים:\n",
    "- יסודות התכנות ב-Python\n",
    "- רקורסיה\n",
    "- תכנות מונחה עצמים\n",
    "- חישובים מדעיים (Numpy)\n",
    "- עיבוד תמונה (Numpy)\n",
    "- ניתוח נתונים (Pandas)\n",
    "- הצגת נתונים (Pandas)"
   ]
  },
  {
   "cell_type": "markdown",
   "id": "c6861b6a",
   "metadata": {
    "slideshow": {
     "slide_type": "subslide"
    }
   },
   "source": [
    "### Preface\n",
    "- We assume no prior knowledge\n",
    "- However, we advance fast\n",
    "- The only way to keep on track is to practice!"
   ]
  },
  {
   "cell_type": "markdown",
   "id": "4fb5bdb7",
   "metadata": {
    "slideshow": {
     "slide_type": "subslide"
    }
   },
   "source": []
  },
  {
   "cell_type": "markdown",
   "id": "9e8cf17c",
   "metadata": {
    "slideshow": {
     "slide_type": "subslide"
    }
   },
   "source": [
    "#### Course website: [http://courses.cs.tau.ac.il/pyProg/2425b/](http://courses.cs.tau.ac.il/pyProg/2425b/)\n",
    "- Administration\n",
    "- Course schedule\n",
    "- Presentations\n",
    "- Jupyter Notebooks\n",
    "- Installation guides\n",
    "- External resources\n",
    "- Homework"
   ]
  },
  {
   "cell_type": "markdown",
   "id": "6a5d84d2",
   "metadata": {
    "slideshow": {
     "slide_type": "subslide"
    }
   },
   "source": [
    "#### Moodle: [https://moodle.tau.ac.il/course/view.php?id=50918202098](https://moodle.tau.ac.il/course/view.php?id=50918202098)\n",
    "- Homework submissions\n",
    "- Forums (general + assignment specific)"
   ]
  },
  {
   "cell_type": "markdown",
   "id": "6f9afebb",
   "metadata": {
    "slideshow": {
     "slide_type": "subslide"
    }
   },
   "source": [
    "#### There's also Moodle for each recitation (TA announcements etc.)"
   ]
  },
  {
   "cell_type": "markdown",
   "id": "841627d4",
   "metadata": {
    "slideshow": {
     "slide_type": "slide"
    }
   },
   "source": [
    "\n",
    "### Recitation"
   ]
  },
  {
   "cell_type": "markdown",
   "id": "d65f572b",
   "metadata": {
    "slideshow": {
     "slide_type": "slide"
    }
   },
   "source": [
    "- Practical sessions\n",
    "- In a stוard classroom\n",
    "- Purposes:\n",
    "- Jupyter Notebooks\n",
    "     - Practice topics presented in class\n",
    "         - Hו-on experience in practical tools \n",
    "         - Pycharm\n",
    "     - Background for homework assignments"
   ]
  },
  {
   "cell_type": "markdown",
   "id": "64771a30",
   "metadata": {
    "slideshow": {
     "slide_type": "subslide"
    }
   },
   "source": [
    "### Homework\n",
    "- Guidelines under Exercises tab in course website.\n",
    "- A lot of hוs-on experience\n",
    "- **No other way to learn how to program**"
   ]
  },
  {
   "cell_type": "markdown",
   "id": "3b069fc0",
   "metadata": {
    "slideshow": {
     "slide_type": "subslide"
    }
   },
   "source": [
    "\n",
    "#### Where can I work?\n",
    "- Computer labs\n",
    "- Time ו location appear in the course website\n",
    "    - **Back-up with email / disk-on-key/ dropbox / etc. !**"
   ]
  },
  {
   "cell_type": "markdown",
   "id": "200aead5",
   "metadata": {
    "slideshow": {
     "slide_type": "subslide"
    }
   },
   "source": [
    "\n",
    "### Submission Guidelines"
   ]
  },
  {
   "cell_type": "markdown",
   "id": "dfedae07",
   "metadata": {
    "slideshow": {
     "slide_type": "subslide"
    }
   },
   "source": [
    "- Submission in **singles!** \n",
    "- 7 exercises\n",
    "- Must submit at least 6 exercises\n",
    "- Average of best 6 exercises is 25% of the final grade\n",
    "- 10 grace days"
   ]
  },
  {
   "cell_type": "markdown",
   "id": "57a50952",
   "metadata": {
    "slideshow": {
     "slide_type": "slide"
    }
   },
   "source": [
    "### Guided Lab\n",
    "- Optional practical session in a computer lab\n",
    "- Technical support (Pycharm, Jupyter Notebooks, etc.)\n",
    "- **Use it**"
   ]
  },
  {
   "cell_type": "markdown",
   "id": "4d15ae08",
   "metadata": {
    "slideshow": {
     "slide_type": "subslide"
    }
   },
   "source": [
    "\n",
    "### The exam\n",
    "- Final grade is composed out of homework ו final exam\n",
    "- You must pass the exam to pass the course\n",
    "- Written exam\n",
    "- Includes all course material: \n",
    "    - הרצאהs, recitations, ו HW"
   ]
  },
  {
   "cell_type": "markdown",
   "id": "b5b555d4",
   "metadata": {
    "slideshow": {
     "slide_type": "subslide"
    }
   },
   "source": [
    "\n",
    "### Today's agenda\n",
    "- Brief background to תכנות\n",
    "- Python basics:\n",
    "    - Variables (`int`, `float`, `string`, `boolean`)\n",
    "    - Operators (arithmetic, comparison, logical)"
   ]
  },
  {
   "cell_type": "markdown",
   "id": "dec31dd4",
   "metadata": {
    "slideshow": {
     "slide_type": "subslide"
    }
   },
   "source": [
    "- Functions\n",
    "- Conditional statements (`if`)"
   ]
  },
  {
   "cell_type": "markdown",
   "id": "54508200",
   "metadata": {
    "slideshow": {
     "slide_type": "subslide"
    }
   },
   "source": [
    "### Programming Languages Basics\n",
    "- A computer program is a sequence of text instructions that can be “understood\" by a computer ו executed.\n",
    "- A תכנות language is a machine-readable artificial language designed to express computations that can be performed by a computer.\n",
    "- Over 500 different computer languages are listed in Wikipedia "
   ]
  },
  {
   "cell_type": "code",
   "execution_count": null,
   "id": "a7e5c503",
   "metadata": {
    "execution": {
     "iopub.execute_input": "2025-03-10T09:57:47.797779Z",
     "iopub.status.busy": "2025-03-10T09:57:47.797394Z",
     "iopub.status.idle": "2025-03-10T09:57:47.802388Z",
     "shell.execute_reply": "2025-03-10T09:57:47.801482Z"
    },
    "slideshow": {
     "slide_type": "fragment"
    }
   },
   "outputs": [],
   "source": [
    "a=5\n",
    "print(a)"
   ]
  },
  {
   "cell_type": "code",
   "execution_count": null,
   "id": "c2a90e5f",
   "metadata": {
    "execution": {
     "iopub.execute_input": "2025-03-10T09:57:47.805475Z",
     "iopub.status.busy": "2025-03-10T09:57:47.805141Z",
     "iopub.status.idle": "2025-03-10T09:57:47.809599Z",
     "shell.execute_reply": "2025-03-10T09:57:47.808655Z"
    },
    "slideshow": {
     "slide_type": "fragment"
    }
   },
   "outputs": [],
   "source": [
    "a = 'Hello'\n",
    "print(a)"
   ]
  },
  {
   "cell_type": "code",
   "execution_count": null,
   "id": "26f3f342",
   "metadata": {
    "execution": {
     "iopub.execute_input": "2025-03-10T09:57:47.812434Z",
     "iopub.status.busy": "2025-03-10T09:57:47.812101Z",
     "iopub.status.idle": "2025-03-10T09:57:47.816640Z",
     "shell.execute_reply": "2025-03-10T09:57:47.815668Z"
    },
    "slideshow": {
     "slide_type": "fragment"
    }
   },
   "outputs": [],
   "source": [
    "print('Hello' + str(6))"
   ]
  },
  {
   "cell_type": "markdown",
   "id": "c0ebb9bb",
   "metadata": {
    "slideshow": {
     "slide_type": "subslide"
    }
   },
   "source": []
  },
  {
   "cell_type": "code",
   "execution_count": null,
   "id": "7d23ddee",
   "metadata": {
    "execution": {
     "iopub.execute_input": "2025-03-10T09:57:47.819895Z",
     "iopub.status.busy": "2025-03-10T09:57:47.819381Z",
     "iopub.status.idle": "2025-03-10T09:57:47.823777Z",
     "shell.execute_reply": "2025-03-10T09:57:47.822838Z"
    },
    "slideshow": {
     "slide_type": "fragment"
    }
   },
   "outputs": [],
   "source": [
    "print(type(4))"
   ]
  },
  {
   "cell_type": "code",
   "execution_count": null,
   "id": "1db96425",
   "metadata": {
    "execution": {
     "iopub.execute_input": "2025-03-10T09:57:47.826689Z",
     "iopub.status.busy": "2025-03-10T09:57:47.826395Z",
     "iopub.status.idle": "2025-03-10T09:57:47.830573Z",
     "shell.execute_reply": "2025-03-10T09:57:47.829678Z"
    },
    "slideshow": {
     "slide_type": "fragment"
    }
   },
   "outputs": [],
   "source": [
    "print(type(3.14159))"
   ]
  },
  {
   "cell_type": "markdown",
   "id": "f7542dc7",
   "metadata": {
    "slideshow": {
     "slide_type": "slide"
    }
   },
   "source": [
    "### Machine Code (Language)"
   ]
  },
  {
   "cell_type": "markdown",
   "id": "095616cb",
   "metadata": {
    "slideshow": {
     "slide_type": "subslide"
    }
   },
   "source": [
    "Computers understו only machine language.\n",
    "- Basically, looks like a sequence of 1’s ו 0’s.\n",
    "    - Very inconvenient to work with ו non-intuitive.\n",
    "    - Computer languages were created for human     convenience.\n",
    "- The computer does not understו C/Python/Java - They must be “translated” into machine language\n",
    "    - In this course, we do not care how the computer does that    "
   ]
  },
  {
   "cell_type": "markdown",
   "id": "21ac5cc9",
   "metadata": {
    "slideshow": {
     "slide_type": "fragment"
    }
   },
   "source": [
    "### Computer program\n",
    "- A sequence of instructions designed to achieve a specific purpose \n",
    "- The instructions are executed sequentially. No instruction is executed before the previous is completed"
   ]
  },
  {
   "cell_type": "code",
   "execution_count": null,
   "id": "0c19819a",
   "metadata": {
    "execution": {
     "iopub.execute_input": "2025-03-10T09:57:47.833573Z",
     "iopub.status.busy": "2025-03-10T09:57:47.833281Z",
     "iopub.status.idle": "2025-03-10T09:57:47.837429Z",
     "shell.execute_reply": "2025-03-10T09:57:47.836470Z"
    },
    "slideshow": {
     "slide_type": "fragment"
    }
   },
   "outputs": [],
   "source": [
    "n=10\n",
    "print(n)"
   ]
  },
  {
   "cell_type": "code",
   "execution_count": null,
   "id": "975ab981",
   "metadata": {
    "execution": {
     "iopub.execute_input": "2025-03-10T09:57:47.840365Z",
     "iopub.status.busy": "2025-03-10T09:57:47.839986Z",
     "iopub.status.idle": "2025-03-10T09:57:47.844108Z",
     "shell.execute_reply": "2025-03-10T09:57:47.843179Z"
    },
    "slideshow": {
     "slide_type": "fragment"
    }
   },
   "outputs": [],
   "source": [
    "n=11\n",
    "print(n)"
   ]
  },
  {
   "cell_type": "markdown",
   "id": "e8ac9dc5",
   "metadata": {
    "slideshow": {
     "slide_type": "subslide"
    }
   },
   "source": []
  },
  {
   "cell_type": "code",
   "execution_count": null,
   "id": "0abe44ec",
   "metadata": {
    "execution": {
     "iopub.execute_input": "2025-03-10T09:57:47.847172Z",
     "iopub.status.busy": "2025-03-10T09:57:47.846800Z",
     "iopub.status.idle": "2025-03-10T09:57:47.851150Z",
     "shell.execute_reply": "2025-03-10T09:57:47.850170Z"
    },
    "slideshow": {
     "slide_type": "fragment"
    }
   },
   "outputs": [],
   "source": [
    "print(type(n))\n",
    "n = 1.3141\n",
    "print(type(n)) "
   ]
  },
  {
   "cell_type": "markdown",
   "id": "00e58cb8",
   "metadata": {
    "slideshow": {
     "slide_type": "fragment"
    }
   },
   "source": []
  },
  {
   "cell_type": "code",
   "execution_count": null,
   "id": "b3f91eee",
   "metadata": {
    "execution": {
     "iopub.execute_input": "2025-03-10T09:57:47.854152Z",
     "iopub.status.busy": "2025-03-10T09:57:47.853839Z",
     "iopub.status.idle": "2025-03-10T09:57:47.858097Z",
     "shell.execute_reply": "2025-03-10T09:57:47.857175Z"
    },
    "slideshow": {
     "slide_type": "fragment"
    }
   },
   "outputs": [],
   "source": [
    "pi = 3.14159\n",
    "print(pi * 2 + 1)"
   ]
  },
  {
   "cell_type": "markdown",
   "id": "65ae37e2",
   "metadata": {
    "slideshow": {
     "slide_type": "subslide"
    }
   },
   "source": [
    "\n",
    "### Python\n",
    "- Since 1991\n",
    "- Easy to learn\n",
    "- Short development time\n",
    "- Fast enough for most applications\n",
    "- Huge community\n",
    "- Widely used in the industry \n",
    "- Machine Learning"
   ]
  },
  {
   "cell_type": "code",
   "execution_count": null,
   "id": "0811566e",
   "metadata": {
    "execution": {
     "iopub.execute_input": "2025-03-10T09:57:47.861144Z",
     "iopub.status.busy": "2025-03-10T09:57:47.860850Z",
     "iopub.status.idle": "2025-03-10T09:57:49.349408Z",
     "shell.execute_reply": "2025-03-10T09:57:49.348674Z"
    },
    "slideshow": {
     "slide_type": "fragment"
    },
    "tags": [
     "raises-exception"
    ]
   },
   "outputs": [],
   "source": [
    "check_this"
   ]
  },
  {
   "cell_type": "markdown",
   "id": "aa3cd942",
   "metadata": {
    "slideshow": {
     "slide_type": "subslide"
    }
   },
   "source": []
  },
  {
   "cell_type": "markdown",
   "id": "3a24fba5",
   "metadata": {
    "slideshow": {
     "slide_type": "fragment"
    }
   },
   "source": [
    "### Installing ו running Python\n",
    "- Install Anaconda\n",
    "- Install Pycharm **Community** edition\n",
    "    - Use only **Python 3.11.x**\n",
    "- Guides are provided in the course website (Kickstart guide, installation manuals, etc.)"
   ]
  },
  {
   "cell_type": "markdown",
   "id": "8534aec4",
   "metadata": {
    "slideshow": {
     "slide_type": "fragment"
    }
   },
   "source": [
    "Let’s see together how Pycharm looks like…\n",
    "Using variables to store data in memory"
   ]
  },
  {
   "cell_type": "markdown",
   "id": "4e8197fe",
   "metadata": {
    "slideshow": {
     "slide_type": "subslide"
    }
   },
   "source": [
    "### Using variables to store data in memory\n",
    "- Computer programs manipulate data.\n",
    "- Data is given either as input or calculated by the program.\n",
    "- To access it later, data must be remembered.\n",
    "- Therefore, computer programs use variables to  store data in the memory.\n",
    "- Each variable has…\n",
    "    - A value (content, the stored data)\n",
    "    - A name (a shortcut to its address in memory)\n",
    "    - A type (str, int, float, bool)"
   ]
  },
  {
   "cell_type": "code",
   "execution_count": null,
   "id": "1022ee16",
   "metadata": {
    "execution": {
     "iopub.execute_input": "2025-03-10T09:57:49.353225Z",
     "iopub.status.busy": "2025-03-10T09:57:49.352629Z",
     "iopub.status.idle": "2025-03-10T09:57:49.358434Z",
     "shell.execute_reply": "2025-03-10T09:57:49.357694Z"
    },
    "slideshow": {
     "slide_type": "fragment"
    }
   },
   "outputs": [],
   "source": [
    "a=3\n",
    "print(a)\n",
    "b=5\n",
    "print(b)\n",
    "c = a + b\n",
    "print(c)\n",
    "c = c * 2\n",
    "print(c)\n",
    "print(b**a)\n",
    "print(b/a)\n",
    "print(b//a)\n",
    "print(b%a)"
   ]
  },
  {
   "cell_type": "markdown",
   "id": "c9fb3475",
   "metadata": {
    "slideshow": {
     "slide_type": "subslide"
    }
   },
   "source": [
    "### Program variables\n",
    "- Each variable has: Name, Value, Type (ו an Address of the location in memory where its value is stored).\n",
    "- In Python we create variables simply by assigning a value to a variable name:"
   ]
  },
  {
   "cell_type": "code",
   "execution_count": null,
   "id": "d3672016",
   "metadata": {
    "execution": {
     "iopub.execute_input": "2025-03-10T09:57:49.361605Z",
     "iopub.status.busy": "2025-03-10T09:57:49.361118Z",
     "iopub.status.idle": "2025-03-10T09:57:49.365383Z",
     "shell.execute_reply": "2025-03-10T09:57:49.364578Z"
    },
    "slideshow": {
     "slide_type": "fragment"
    }
   },
   "outputs": [],
   "source": [
    "s = \"Hello\"\n",
    "print(s)"
   ]
  },
  {
   "cell_type": "code",
   "execution_count": null,
   "id": "97132f4e",
   "metadata": {
    "execution": {
     "iopub.execute_input": "2025-03-10T09:57:49.368370Z",
     "iopub.status.busy": "2025-03-10T09:57:49.367840Z",
     "iopub.status.idle": "2025-03-10T09:57:49.372231Z",
     "shell.execute_reply": "2025-03-10T09:57:49.371410Z"
    },
    "slideshow": {
     "slide_type": "fragment"
    }
   },
   "outputs": [],
   "source": [
    "print(s[0])\n",
    "print(s[-1])"
   ]
  },
  {
   "cell_type": "markdown",
   "id": "b8ff3032",
   "metadata": {
    "slideshow": {
     "slide_type": "subslide"
    }
   },
   "source": [
    "```python\n",
    "s = \"Bob\"\n",
    "r = True\n",
    "age = 35\n",
    "```"
   ]
  },
  {
   "cell_type": "markdown",
   "id": "bb1761cf",
   "metadata": {
    "slideshow": {
     "slide_type": "fragment"
    }
   },
   "source": [
    "\n",
    "The variable’s type is automatically determined in Python based on its assigned values ו actions"
   ]
  },
  {
   "cell_type": "code",
   "execution_count": null,
   "id": "4f951f7f",
   "metadata": {
    "execution": {
     "iopub.execute_input": "2025-03-10T09:57:49.375144Z",
     "iopub.status.busy": "2025-03-10T09:57:49.374794Z",
     "iopub.status.idle": "2025-03-10T09:57:49.378674Z",
     "shell.execute_reply": "2025-03-10T09:57:49.377927Z"
    },
    "slideshow": {
     "slide_type": "fragment"
    }
   },
   "outputs": [],
   "source": [
    "a = 'Hello'"
   ]
  },
  {
   "cell_type": "code",
   "execution_count": null,
   "id": "7585b587",
   "metadata": {
    "execution": {
     "iopub.execute_input": "2025-03-10T09:57:49.381662Z",
     "iopub.status.busy": "2025-03-10T09:57:49.381182Z",
     "iopub.status.idle": "2025-03-10T09:57:49.385492Z",
     "shell.execute_reply": "2025-03-10T09:57:49.384767Z"
    },
    "slideshow": {
     "slide_type": "fragment"
    }
   },
   "outputs": [],
   "source": [
    "print(str.find(a, 'H'))\n",
    "print(a.find('H'))"
   ]
  },
  {
   "cell_type": "code",
   "execution_count": null,
   "id": "478e3e41",
   "metadata": {
    "execution": {
     "iopub.execute_input": "2025-03-10T09:57:49.388429Z",
     "iopub.status.busy": "2025-03-10T09:57:49.387968Z",
     "iopub.status.idle": "2025-03-10T09:57:49.392726Z",
     "shell.execute_reply": "2025-03-10T09:57:49.391936Z"
    },
    "slideshow": {
     "slide_type": "fragment"
    }
   },
   "outputs": [],
   "source": [
    "print(a[0])\n",
    "print(a[1])\n",
    "print(a[-1])\n",
    "print(a[4])"
   ]
  },
  {
   "cell_type": "code",
   "execution_count": null,
   "id": "7c95deb1",
   "metadata": {
    "execution": {
     "iopub.execute_input": "2025-03-10T09:57:49.395646Z",
     "iopub.status.busy": "2025-03-10T09:57:49.395091Z",
     "iopub.status.idle": "2025-03-10T09:57:49.415519Z",
     "shell.execute_reply": "2025-03-10T09:57:49.414797Z"
    },
    "slideshow": {
     "slide_type": "fragment"
    },
    "tags": [
     "raises-exception"
    ]
   },
   "outputs": [],
   "source": [
    "print(a[5])"
   ]
  },
  {
   "cell_type": "markdown",
   "id": "a1f6125f",
   "metadata": {
    "slideshow": {
     "slide_type": "subslide"
    }
   },
   "source": [
    "\n",
    "### סוגי נתונים ב-Python\n",
    "- סוגי נתונים מובנים נפוצים:\n",
    "    - סוגים מספריים: int, float\n",
    "    - בוליאני: bool\n",
    "    - מחרוזת: str\n",
    "- למה אנחנו צריכים סוגי נתונים שונים?\n",
    "    - חוסך בזיכרון\n",
    "    - מהירות ביצוע\n",
    "    - לכל סוג יש פעולות שונות"
   ]
  },
  {
   "cell_type": "markdown",
   "id": "00ceee3b",
   "metadata": {
    "slideshow": {
     "slide_type": "fragment"
    }
   },
   "source": [
    "### סוגי נתונים ב-Python: illustration\n",
    "```python\n",
    "n=17\n",
    "pi=3.14159\n",
    "message=\"whats'up Doc?\"\n",
    "b=True\n",
    "```"
   ]
  },
  {
   "cell_type": "code",
   "execution_count": null,
   "id": "f1c838ac",
   "metadata": {
    "execution": {
     "iopub.execute_input": "2025-03-10T09:57:49.418631Z",
     "iopub.status.busy": "2025-03-10T09:57:49.418259Z",
     "iopub.status.idle": "2025-03-10T09:57:49.422035Z",
     "shell.execute_reply": "2025-03-10T09:57:49.421310Z"
    },
    "slideshow": {
     "slide_type": "fragment"
    }
   },
   "outputs": [],
   "source": [
    "a = 'Hello'"
   ]
  },
  {
   "cell_type": "code",
   "execution_count": null,
   "id": "27a8a406",
   "metadata": {
    "execution": {
     "iopub.execute_input": "2025-03-10T09:57:49.424855Z",
     "iopub.status.busy": "2025-03-10T09:57:49.424510Z",
     "iopub.status.idle": "2025-03-10T09:57:49.428831Z",
     "shell.execute_reply": "2025-03-10T09:57:49.428048Z"
    },
    "slideshow": {
     "slide_type": "fragment"
    }
   },
   "outputs": [],
   "source": [
    "print(a[1])\n",
    "print(a[1:3])\n",
    "print(a[1:])"
   ]
  },
  {
   "cell_type": "code",
   "execution_count": null,
   "id": "62442bf9",
   "metadata": {
    "execution": {
     "iopub.execute_input": "2025-03-10T09:57:49.432001Z",
     "iopub.status.busy": "2025-03-10T09:57:49.431431Z",
     "iopub.status.idle": "2025-03-10T09:57:49.436077Z",
     "shell.execute_reply": "2025-03-10T09:57:49.435420Z"
    },
    "slideshow": {
     "slide_type": "fragment"
    }
   },
   "outputs": [],
   "source": [
    "print(a[-4:-2])\n",
    "print(a[:-3])\n",
    "print(a[-3:])"
   ]
  },
  {
   "cell_type": "markdown",
   "id": "2b623daf",
   "metadata": {
    "slideshow": {
     "slide_type": "subslide"
    }
   },
   "source": [
    "\n",
    "### Data Types: execution example"
   ]
  },
  {
   "cell_type": "markdown",
   "id": "83022868",
   "metadata": {
    "slideshow": {
     "slide_type": "subslide"
    }
   },
   "source": [
    "### The `type` commו returns the type of a variable/expression"
   ]
  },
  {
   "cell_type": "markdown",
   "id": "2d6b9c79",
   "metadata": {
    "slideshow": {
     "slide_type": "fragment"
    }
   },
   "source": [
    "### Variables ו מטלות\n",
    "- Left-hו side is a variable name. \n",
    "- Right-hו side is an expression\n",
    "```python \n",
    "n = 10\n",
    "m = (10 + 4) * 5\n",
    "```"
   ]
  },
  {
   "cell_type": "markdown",
   "id": "26938c43",
   "metadata": {
    "slideshow": {
     "slide_type": "subslide"
    }
   },
   "source": [
    "- Variable's name - a sequence of letters ו digits, \n",
    "\tstarting with a letter.\n",
    "    \n",
    "The **interpreter**:\n",
    "- Evaluates the expression \n",
    "- Assigns its value to the variable."
   ]
  },
  {
   "cell_type": "code",
   "execution_count": null,
   "id": "8d37df28",
   "metadata": {
    "execution": {
     "iopub.execute_input": "2025-03-10T09:57:49.439344Z",
     "iopub.status.busy": "2025-03-10T09:57:49.438939Z",
     "iopub.status.idle": "2025-03-10T09:57:49.443021Z",
     "shell.execute_reply": "2025-03-10T09:57:49.442285Z"
    },
    "slideshow": {
     "slide_type": "fragment"
    }
   },
   "outputs": [],
   "source": [
    "a = 'Hello'"
   ]
  },
  {
   "cell_type": "code",
   "execution_count": null,
   "id": "351af373",
   "metadata": {
    "execution": {
     "iopub.execute_input": "2025-03-10T09:57:49.445849Z",
     "iopub.status.busy": "2025-03-10T09:57:49.445490Z",
     "iopub.status.idle": "2025-03-10T09:57:49.449771Z",
     "shell.execute_reply": "2025-03-10T09:57:49.449002Z"
    },
    "slideshow": {
     "slide_type": "fragment"
    }
   },
   "outputs": [],
   "source": [
    "print(len(a))"
   ]
  },
  {
   "cell_type": "code",
   "execution_count": null,
   "id": "1d1d190c",
   "metadata": {
    "execution": {
     "iopub.execute_input": "2025-03-10T09:57:49.452621Z",
     "iopub.status.busy": "2025-03-10T09:57:49.452262Z",
     "iopub.status.idle": "2025-03-10T09:57:49.456382Z",
     "shell.execute_reply": "2025-03-10T09:57:49.455622Z"
    },
    "slideshow": {
     "slide_type": "fragment"
    }
   },
   "outputs": [],
   "source": [
    "print(a + \"world\")"
   ]
  },
  {
   "cell_type": "code",
   "execution_count": null,
   "id": "ff3c3195",
   "metadata": {
    "execution": {
     "iopub.execute_input": "2025-03-10T09:57:49.459408Z",
     "iopub.status.busy": "2025-03-10T09:57:49.458721Z",
     "iopub.status.idle": "2025-03-10T09:57:49.463030Z",
     "shell.execute_reply": "2025-03-10T09:57:49.462391Z"
    },
    "slideshow": {
     "slide_type": "fragment"
    }
   },
   "outputs": [],
   "source": [
    "print(str.lower(a))"
   ]
  },
  {
   "cell_type": "code",
   "execution_count": null,
   "id": "2b11b045",
   "metadata": {
    "execution": {
     "iopub.execute_input": "2025-03-10T09:57:49.465718Z",
     "iopub.status.busy": "2025-03-10T09:57:49.465361Z",
     "iopub.status.idle": "2025-03-10T09:57:49.469531Z",
     "shell.execute_reply": "2025-03-10T09:57:49.468890Z"
    },
    "slideshow": {
     "slide_type": "fragment"
    }
   },
   "outputs": [],
   "source": [
    "print(b)"
   ]
  },
  {
   "cell_type": "markdown",
   "id": "ba28b70f",
   "metadata": {
    "slideshow": {
     "slide_type": "subslide"
    }
   },
   "source": [
    "### Variables ו assignments: an example"
   ]
  },
  {
   "cell_type": "code",
   "execution_count": null,
   "id": "53542777",
   "metadata": {
    "execution": {
     "iopub.execute_input": "2025-03-10T09:57:49.472437Z",
     "iopub.status.busy": "2025-03-10T09:57:49.472061Z",
     "iopub.status.idle": "2025-03-10T09:57:49.476605Z",
     "shell.execute_reply": "2025-03-10T09:57:49.475786Z"
    },
    "slideshow": {
     "slide_type": "fragment"
    }
   },
   "outputs": [],
   "source": [
    "s1 = \"He\"\n",
    "s2 = \"llo\"\n",
    "s3 = s1 + s2\n",
    "print(s3)"
   ]
  },
  {
   "cell_type": "code",
   "execution_count": null,
   "id": "d951f927",
   "metadata": {
    "execution": {
     "iopub.execute_input": "2025-03-10T09:57:49.479558Z",
     "iopub.status.busy": "2025-03-10T09:57:49.479187Z",
     "iopub.status.idle": "2025-03-10T09:57:49.483673Z",
     "shell.execute_reply": "2025-03-10T09:57:49.483023Z"
    },
    "slideshow": {
     "slide_type": "fragment"
    }
   },
   "outputs": [],
   "source": [
    "s4 = s3 + \" World\"\n",
    "c = \"!\"\n",
    "print(s4+\" \"+str(2022)+\" \"+c)    "
   ]
  },
  {
   "cell_type": "code",
   "execution_count": null,
   "id": "142cb706",
   "metadata": {
    "execution": {
     "iopub.execute_input": "2025-03-10T09:57:49.486442Z",
     "iopub.status.busy": "2025-03-10T09:57:49.486074Z",
     "iopub.status.idle": "2025-03-10T09:57:49.490399Z",
     "shell.execute_reply": "2025-03-10T09:57:49.489648Z"
    },
    "slideshow": {
     "slide_type": "fragment"
    }
   },
   "outputs": [],
   "source": [
    "print(s4, 2022, c)  # automatically adds spaces in between"
   ]
  },
  {
   "cell_type": "markdown",
   "id": "ff336257",
   "metadata": {
    "slideshow": {
     "slide_type": "subslide"
    }
   },
   "source": [
    "Changing the value of a variable:"
   ]
  },
  {
   "cell_type": "code",
   "execution_count": null,
   "id": "43b00019",
   "metadata": {
    "execution": {
     "iopub.execute_input": "2025-03-10T09:57:49.493457Z",
     "iopub.status.busy": "2025-03-10T09:57:49.493085Z",
     "iopub.status.idle": "2025-03-10T09:57:49.511373Z",
     "shell.execute_reply": "2025-03-10T09:57:49.510473Z"
    },
    "slideshow": {
     "slide_type": "subslide"
    },
    "tags": [
     "raises-exception"
    ]
   },
   "outputs": [],
   "source": [
    "a = \"abc\"\n",
    "a[0] = \"d\""
   ]
  },
  {
   "cell_type": "markdown",
   "id": "53a86847",
   "metadata": {
    "slideshow": {
     "slide_type": "fragment"
    }
   },
   "source": [
    "Changing the type of a variable:"
   ]
  },
  {
   "cell_type": "code",
   "execution_count": null,
   "id": "423817fb",
   "metadata": {
    "execution": {
     "iopub.execute_input": "2025-03-10T09:57:49.514478Z",
     "iopub.status.busy": "2025-03-10T09:57:49.514087Z",
     "iopub.status.idle": "2025-03-10T09:57:49.518437Z",
     "shell.execute_reply": "2025-03-10T09:57:49.517793Z"
    },
    "slideshow": {
     "slide_type": "fragment"
    }
   },
   "outputs": [],
   "source": [
    "a=\"abc\"\n",
    "print(a)\n",
    "a=\"gggg\"\n",
    "print(a)"
   ]
  },
  {
   "cell_type": "markdown",
   "id": "021f793f",
   "metadata": {
    "slideshow": {
     "slide_type": "subslide"
    }
   },
   "source": [
    "Variables can be used in expressions:"
   ]
  },
  {
   "cell_type": "code",
   "execution_count": null,
   "id": "231781df",
   "metadata": {
    "execution": {
     "iopub.execute_input": "2025-03-10T09:57:49.521489Z",
     "iopub.status.busy": "2025-03-10T09:57:49.521098Z",
     "iopub.status.idle": "2025-03-10T09:57:49.525594Z",
     "shell.execute_reply": "2025-03-10T09:57:49.524809Z"
    },
    "slideshow": {
     "slide_type": "fragment"
    }
   },
   "outputs": [],
   "source": [
    "a = \"hello\"\n",
    "b = a.title()\n",
    "print(\"a value is:\", a)\n",
    "print(\"b value is:\", b)"
   ]
  },
  {
   "cell_type": "markdown",
   "id": "b6db2216",
   "metadata": {
    "slideshow": {
     "slide_type": "subslide"
    }
   },
   "source": [
    "Referring to undefined variables leads to runtime error"
   ]
  },
  {
   "cell_type": "markdown",
   "id": "4f28f2af",
   "metadata": {
    "slideshow": {
     "slide_type": "fragment"
    }
   },
   "source": [
    "### Arithmetic operations"
   ]
  },
  {
   "cell_type": "markdown",
   "id": "7963dc91",
   "metadata": {
    "slideshow": {
     "slide_type": "subslide"
    }
   },
   "source": []
  },
  {
   "cell_type": "code",
   "execution_count": null,
   "id": "34c42c36",
   "metadata": {
    "execution": {
     "iopub.execute_input": "2025-03-10T09:57:49.528610Z",
     "iopub.status.busy": "2025-03-10T09:57:49.528227Z",
     "iopub.status.idle": "2025-03-10T09:57:49.533742Z",
     "shell.execute_reply": "2025-03-10T09:57:49.533034Z"
    },
    "slideshow": {
     "slide_type": "fragment"
    }
   },
   "outputs": [],
   "source": [
    "print(str.upper('Assaf'))\n",
    "print(str.upper('Assaf'))\n",
    "print(str.lower('Noga'))\n",
    "print(str.replace('Python class occurs on Mondays', 'Mondays', 'Tuesdays'))\n",
    "print('Py' + 'thon')\n",
    "print(str.title('python course for engineers'))\n",
    "print(str.title(str.replace('Python class occurs on Mondays', 'Mondays', 'Tuesdays')))\n",
    "print('repeat' * 4)"
   ]
  },
  {
   "cell_type": "markdown",
   "id": "c6328c60",
   "metadata": {
    "slideshow": {
     "slide_type": "subslide"
    }
   },
   "source": [
    "#### What’s the type of `8/5` ?  And of `8//5` ? "
   ]
  },
  {
   "cell_type": "markdown",
   "id": "396172c2",
   "metadata": {
    "slideshow": {
     "slide_type": "subslide"
    }
   },
   "source": [
    "### Playing with variables"
   ]
  },
  {
   "cell_type": "code",
   "execution_count": null,
   "id": "e2e01820",
   "metadata": {
    "execution": {
     "iopub.execute_input": "2025-03-10T09:57:49.536865Z",
     "iopub.status.busy": "2025-03-10T09:57:49.536482Z",
     "iopub.status.idle": "2025-03-10T09:57:49.541281Z",
     "shell.execute_reply": "2025-03-10T09:57:49.540613Z"
    },
    "slideshow": {
     "slide_type": "fragment"
    }
   },
   "outputs": [],
   "source": [
    "num = 123\n",
    "print(num, type(num))\n",
    "num_str = str(num)\n",
    "print(num, type(num))\n",
    "num_float = float(num)\n",
    "print(num_float, type(num_float))"
   ]
  },
  {
   "cell_type": "markdown",
   "id": "2a97899e",
   "metadata": {
    "slideshow": {
     "slide_type": "subslide"
    }
   },
   "source": [
    "### Strings\n",
    "- String variables are used to save text. \n",
    "- An ordered sequence of characters."
   ]
  },
  {
   "cell_type": "markdown",
   "id": "c731a02c",
   "metadata": {
    "slideshow": {
     "slide_type": "fragment"
    }
   },
   "source": [
    "### Strings Indices"
   ]
  },
  {
   "cell_type": "markdown",
   "id": "0975109b",
   "metadata": {
    "slideshow": {
     "slide_type": "subslide"
    }
   },
   "source": []
  },
  {
   "cell_type": "code",
   "execution_count": null,
   "id": "2bb60feb",
   "metadata": {
    "execution": {
     "iopub.execute_input": "2025-03-10T09:57:49.544491Z",
     "iopub.status.busy": "2025-03-10T09:57:49.543995Z",
     "iopub.status.idle": "2025-03-10T09:57:49.548172Z",
     "shell.execute_reply": "2025-03-10T09:57:49.547479Z"
    },
    "slideshow": {
     "slide_type": "fragment"
    }
   },
   "outputs": [],
   "source": [
    "print(5==5.0)"
   ]
  },
  {
   "cell_type": "code",
   "execution_count": null,
   "id": "e1dcd239",
   "metadata": {
    "execution": {
     "iopub.execute_input": "2025-03-10T09:57:49.550860Z",
     "iopub.status.busy": "2025-03-10T09:57:49.550508Z",
     "iopub.status.idle": "2025-03-10T09:57:49.554438Z",
     "shell.execute_reply": "2025-03-10T09:57:49.553795Z"
    },
    "slideshow": {
     "slide_type": "fragment"
    }
   },
   "outputs": [],
   "source": [
    "print(6!=2*3)"
   ]
  },
  {
   "cell_type": "code",
   "execution_count": null,
   "id": "aa88e348",
   "metadata": {
    "execution": {
     "iopub.execute_input": "2025-03-10T09:57:49.557505Z",
     "iopub.status.busy": "2025-03-10T09:57:49.557028Z",
     "iopub.status.idle": "2025-03-10T09:57:49.561403Z",
     "shell.execute_reply": "2025-03-10T09:57:49.560559Z"
    },
    "slideshow": {
     "slide_type": "fragment"
    }
   },
   "outputs": [],
   "source": [
    "print(-2>=1)"
   ]
  },
  {
   "cell_type": "code",
   "execution_count": null,
   "id": "96451a35",
   "metadata": {
    "execution": {
     "iopub.execute_input": "2025-03-10T09:57:49.564114Z",
     "iopub.status.busy": "2025-03-10T09:57:49.563763Z",
     "iopub.status.idle": "2025-03-10T09:57:49.567778Z",
     "shell.execute_reply": "2025-03-10T09:57:49.567058Z"
    },
    "slideshow": {
     "slide_type": "fragment"
    }
   },
   "outputs": [],
   "source": [
    "print(3<=3)"
   ]
  },
  {
   "cell_type": "code",
   "execution_count": null,
   "id": "fe61c605",
   "metadata": {
    "execution": {
     "iopub.execute_input": "2025-03-10T09:57:49.570934Z",
     "iopub.status.busy": "2025-03-10T09:57:49.570389Z",
     "iopub.status.idle": "2025-03-10T09:57:49.574843Z",
     "shell.execute_reply": "2025-03-10T09:57:49.574028Z"
    },
    "slideshow": {
     "slide_type": "fragment"
    }
   },
   "outputs": [],
   "source": [
    "x=3<3\n",
    "print(x, type(x))"
   ]
  },
  {
   "cell_type": "code",
   "execution_count": null,
   "id": "b7f94196",
   "metadata": {
    "execution": {
     "iopub.execute_input": "2025-03-10T09:57:49.577716Z",
     "iopub.status.busy": "2025-03-10T09:57:49.577333Z",
     "iopub.status.idle": "2025-03-10T09:57:49.581818Z",
     "shell.execute_reply": "2025-03-10T09:57:49.580949Z"
    },
    "slideshow": {
     "slide_type": "fragment"
    }
   },
   "outputs": [],
   "source": [
    "print('a'!='b')"
   ]
  },
  {
   "cell_type": "markdown",
   "id": "69a6e17e",
   "metadata": {
    "slideshow": {
     "slide_type": "subslide"
    }
   },
   "source": [
    "### String access"
   ]
  },
  {
   "cell_type": "markdown",
   "id": "86a9a313",
   "metadata": {
    "slideshow": {
     "slide_type": "fragment"
    }
   },
   "source": []
  },
  {
   "cell_type": "code",
   "execution_count": null,
   "id": "300ac800",
   "metadata": {
    "execution": {
     "iopub.execute_input": "2025-03-10T09:57:49.584784Z",
     "iopub.status.busy": "2025-03-10T09:57:49.584417Z",
     "iopub.status.idle": "2025-03-10T09:57:49.588590Z",
     "shell.execute_reply": "2025-03-10T09:57:49.587853Z"
    },
    "slideshow": {
     "slide_type": "subslide"
    }
   },
   "outputs": [],
   "source": [
    "a = True\n",
    "b = True \n",
    "c = False\n",
    "d = False"
   ]
  },
  {
   "cell_type": "code",
   "execution_count": null,
   "id": "6fd182c2",
   "metadata": {
    "execution": {
     "iopub.execute_input": "2025-03-10T09:57:49.591423Z",
     "iopub.status.busy": "2025-03-10T09:57:49.591053Z",
     "iopub.status.idle": "2025-03-10T09:57:49.595231Z",
     "shell.execute_reply": "2025-03-10T09:57:49.594600Z"
    },
    "slideshow": {
     "slide_type": "fragment"
    }
   },
   "outputs": [],
   "source": [
    "print(a and b)"
   ]
  },
  {
   "cell_type": "code",
   "execution_count": null,
   "id": "faeb3273",
   "metadata": {
    "execution": {
     "iopub.execute_input": "2025-03-10T09:57:49.597963Z",
     "iopub.status.busy": "2025-03-10T09:57:49.597612Z",
     "iopub.status.idle": "2025-03-10T09:57:49.601862Z",
     "shell.execute_reply": "2025-03-10T09:57:49.601017Z"
    },
    "slideshow": {
     "slide_type": "fragment"
    }
   },
   "outputs": [],
   "source": [
    "print(a and c)"
   ]
  },
  {
   "cell_type": "code",
   "execution_count": null,
   "id": "5df6d7f8",
   "metadata": {
    "execution": {
     "iopub.execute_input": "2025-03-10T09:57:49.604887Z",
     "iopub.status.busy": "2025-03-10T09:57:49.604562Z",
     "iopub.status.idle": "2025-03-10T09:57:49.608782Z",
     "shell.execute_reply": "2025-03-10T09:57:49.607889Z"
    },
    "slideshow": {
     "slide_type": "fragment"
    }
   },
   "outputs": [],
   "source": [
    "print(a or c)"
   ]
  },
  {
   "cell_type": "code",
   "execution_count": null,
   "id": "55c02854",
   "metadata": {
    "execution": {
     "iopub.execute_input": "2025-03-10T09:57:49.611977Z",
     "iopub.status.busy": "2025-03-10T09:57:49.611480Z",
     "iopub.status.idle": "2025-03-10T09:57:49.615651Z",
     "shell.execute_reply": "2025-03-10T09:57:49.614854Z"
    },
    "slideshow": {
     "slide_type": "fragment"
    }
   },
   "outputs": [],
   "source": [
    "print(not a)"
   ]
  },
  {
   "cell_type": "markdown",
   "id": "ec598a9b",
   "metadata": {
    "slideshow": {
     "slide_type": "slide"
    }
   },
   "source": [
    "### Strings are a sequence of characters\n",
    "- Every character in a string is mapped to a specific number based on the famous ASCII table.\n",
    "- Strings are saved in memory as a sequence of numbers in binary form.\n",
    "- In python:\n",
    "    - `\\n` represents new line\n",
    "    - `\\t` represents tab"
   ]
  },
  {
   "cell_type": "markdown",
   "id": "59a63386",
   "metadata": {
    "slideshow": {
     "slide_type": "subslide"
    }
   },
   "source": [
    "### ASCII table"
   ]
  },
  {
   "cell_type": "code",
   "execution_count": null,
   "id": "28bfe084",
   "metadata": {
    "execution": {
     "iopub.execute_input": "2025-03-10T09:57:49.618881Z",
     "iopub.status.busy": "2025-03-10T09:57:49.618377Z",
     "iopub.status.idle": "2025-03-10T09:57:49.623209Z",
     "shell.execute_reply": "2025-03-10T09:57:49.622403Z"
    },
    "slideshow": {
     "slide_type": "fragment"
    }
   },
   "outputs": [],
   "source": [
    "c1=3*2+3*2\n",
    "print(c1)\n",
    "c2=1*2+3*2\n",
    "print(c2)\n",
    "c3=3*2+5*2\n",
    "print(c3)"
   ]
  },
  {
   "cell_type": "code",
   "execution_count": null,
   "id": "054f7f67",
   "metadata": {},
   "outputs": [],
   "source": []
  },
  {
   "cell_type": "markdown",
   "id": "a2bd5f17",
   "metadata": {
    "slideshow": {
     "slide_type": "fragment"
    }
   },
   "source": []
  },
  {
   "cell_type": "markdown",
   "id": "83e7564d",
   "metadata": {
    "slideshow": {
     "slide_type": "subslide"
    }
   },
   "source": [
    "### String type"
   ]
  },
  {
   "cell_type": "markdown",
   "id": "2998ce26",
   "metadata": {
    "slideshow": {
     "slide_type": "subslide"
    }
   },
   "source": [
    "### String concatenation"
   ]
  },
  {
   "cell_type": "markdown",
   "id": "041bed8e",
   "metadata": {
    "slideshow": {
     "slide_type": "subslide"
    }
   },
   "source": [
    "### Strings are immutable\n",
    "- You cannot mutate (change) existing strings. Only create new ones!"
   ]
  },
  {
   "cell_type": "markdown",
   "id": "c360d258",
   "metadata": {
    "slideshow": {
     "slide_type": "fragment"
    }
   },
   "source": [
    "\n",
    "However, pointing to another string is valid: "
   ]
  },
  {
   "cell_type": "code",
   "execution_count": null,
   "id": "2d11a7f1",
   "metadata": {
    "execution": {
     "iopub.execute_input": "2025-03-10T09:57:49.626834Z",
     "iopub.status.busy": "2025-03-10T09:57:49.626343Z",
     "iopub.status.idle": "2025-03-10T09:57:49.631760Z",
     "shell.execute_reply": "2025-03-10T09:57:49.630964Z"
    },
    "slideshow": {
     "slide_type": "fragment"
    }
   },
   "outputs": [],
   "source": [
    "type(5)"
   ]
  },
  {
   "cell_type": "code",
   "execution_count": null,
   "id": "24d0635a",
   "metadata": {
    "execution": {
     "iopub.execute_input": "2025-03-10T09:57:49.634695Z",
     "iopub.status.busy": "2025-03-10T09:57:49.634241Z",
     "iopub.status.idle": "2025-03-10T09:57:49.639514Z",
     "shell.execute_reply": "2025-03-10T09:57:49.638732Z"
    },
    "slideshow": {
     "slide_type": "fragment"
    }
   },
   "outputs": [],
   "source": [
    "len(\"abcde\")"
   ]
  },
  {
   "cell_type": "markdown",
   "id": "5a5622b2",
   "metadata": {
    "slideshow": {
     "slide_type": "fragment"
    }
   },
   "source": [
    "### Strings are immutable \n",
    "- Immutable variables cannot be changed after created.\n",
    "- Applying operations on immutable variables usually return a **new variable** rather changing the original variable"
   ]
  },
  {
   "cell_type": "markdown",
   "id": "92fb2fbc",
   "metadata": {
    "slideshow": {
     "slide_type": "subslide"
    }
   },
   "source": [
    "\n",
    "### String operators"
   ]
  },
  {
   "cell_type": "markdown",
   "id": "3f9132ad",
   "metadata": {
    "slideshow": {
     "slide_type": "fragment"
    }
   },
   "source": []
  },
  {
   "cell_type": "markdown",
   "id": "8a501c88",
   "metadata": {
    "slideshow": {
     "slide_type": "fragment"
    }
   },
   "source": [
    "## Strings functions (methods)\n",
    "- The `str` type in Python includes many built-in commוs for working with Strings"
   ]
  },
  {
   "cell_type": "markdown",
   "id": "1ac9fb42",
   "metadata": {
    "slideshow": {
     "slide_type": "fragment"
    }
   },
   "source": [
    "### Other functions of String"
   ]
  },
  {
   "cell_type": "markdown",
   "id": "ed737884",
   "metadata": {
    "slideshow": {
     "slide_type": "subslide"
    }
   },
   "source": [
    "- **`len`**\n",
    "- `find`, `startswith`, `endswith`\n",
    "- `isalpha`, `isdigit`, `islower`\n",
    "- `join`, `replace`\n",
    "- `strip`, `rstrip`\n",
    "- `split`"
   ]
  },
  {
   "cell_type": "markdown",
   "id": "18ca43f8",
   "metadata": {
    "slideshow": {
     "slide_type": "fragment"
    }
   },
   "source": [
    "**<span style=\"color:red\">These function are very important! Mוatory for solving many problems.</span>**"
   ]
  },
  {
   "cell_type": "markdown",
   "id": "067c5541",
   "metadata": {
    "slideshow": {
     "slide_type": "subslide"
    }
   },
   "source": [
    "More About Strings: http://www.tutorialspoint.com/python/python_strings.htm"
   ]
  },
  {
   "cell_type": "code",
   "execution_count": null,
   "id": "192ac4ba",
   "metadata": {
    "execution": {
     "iopub.execute_input": "2025-03-10T09:57:49.643210Z",
     "iopub.status.busy": "2025-03-10T09:57:49.642664Z",
     "iopub.status.idle": "2025-03-10T09:57:49.646450Z",
     "shell.execute_reply": "2025-03-10T09:57:49.645696Z"
    },
    "slideshow": {
     "slide_type": "fragment"
    }
   },
   "outputs": [],
   "source": [
    "def circumference(x,y):\n",
    "    return 2*x +2*y"
   ]
  },
  {
   "cell_type": "markdown",
   "id": "9c1f3bac",
   "metadata": {
    "slideshow": {
     "slide_type": "subslide"
    }
   },
   "source": [
    "Google it..."
   ]
  },
  {
   "cell_type": "code",
   "execution_count": null,
   "id": "ccb1ef0f",
   "metadata": {
    "execution": {
     "iopub.execute_input": "2025-03-10T09:57:49.649325Z",
     "iopub.status.busy": "2025-03-10T09:57:49.648993Z",
     "iopub.status.idle": "2025-03-10T09:57:49.652893Z",
     "shell.execute_reply": "2025-03-10T09:57:49.652238Z"
    },
    "slideshow": {
     "slide_type": "fragment"
    }
   },
   "outputs": [],
   "source": [
    "a = circumference(4,6)\n",
    "print(a)"
   ]
  },
  {
   "cell_type": "code",
   "execution_count": null,
   "id": "66287a8a",
   "metadata": {
    "execution": {
     "iopub.execute_input": "2025-03-10T09:57:49.655634Z",
     "iopub.status.busy": "2025-03-10T09:57:49.655314Z",
     "iopub.status.idle": "2025-03-10T09:57:49.659278Z",
     "shell.execute_reply": "2025-03-10T09:57:49.658543Z"
    },
    "slideshow": {
     "slide_type": "fragment"
    }
   },
   "outputs": [],
   "source": [
    "print(circumference(2,3))"
   ]
  },
  {
   "cell_type": "markdown",
   "id": "43233d45",
   "metadata": {
    "slideshow": {
     "slide_type": "subslide"
    }
   },
   "source": [
    "\n",
    "### Type conversion\n",
    "- Convert variable type using int(), str() ו float()"
   ]
  },
  {
   "cell_type": "code",
   "execution_count": null,
   "id": "b5a54f63",
   "metadata": {
    "execution": {
     "iopub.execute_input": "2025-03-10T09:57:49.662298Z",
     "iopub.status.busy": "2025-03-10T09:57:49.661830Z",
     "iopub.status.idle": "2025-03-10T09:57:49.666469Z",
     "shell.execute_reply": "2025-03-10T09:57:49.665734Z"
    },
    "slideshow": {
     "slide_type": "subslide"
    }
   },
   "outputs": [],
   "source": [
    "def print_lyrics():\n",
    "    print(\"The wheels on the bus go round and round\")\n",
    "    print(\"Round and round, round and round\")\n",
    "def repeat_lyrics(): \n",
    "    print_lyrics() \n",
    "    print_lyrics()\n",
    "    \n",
    "repeat_lyrics()"
   ]
  },
  {
   "cell_type": "markdown",
   "id": "3812c192",
   "metadata": {
    "slideshow": {
     "slide_type": "fragment"
    }
   },
   "source": [
    "\n",
    "### Comparison Operators \n",
    "- Compares two variables ו returns a Boolean type value (True/False)"
   ]
  },
  {
   "cell_type": "markdown",
   "id": "ceb6f7a0",
   "metadata": {
    "slideshow": {
     "slide_type": "subslide"
    }
   },
   "source": []
  },
  {
   "cell_type": "markdown",
   "id": "766c718d",
   "metadata": {
    "slideshow": {
     "slide_type": "fragment"
    }
   },
   "source": [
    "### Comparison operators: examples "
   ]
  },
  {
   "cell_type": "markdown",
   "id": "0605ec22",
   "metadata": {
    "slideshow": {
     "slide_type": "fragment"
    }
   },
   "source": [
    "### Logical Operators \n",
    "- Operate on two Booleans ו return Booleans"
   ]
  },
  {
   "cell_type": "markdown",
   "id": "53c22081",
   "metadata": {
    "slideshow": {
     "slide_type": "subslide"
    }
   },
   "source": []
  },
  {
   "cell_type": "markdown",
   "id": "67cb729f",
   "metadata": {
    "slideshow": {
     "slide_type": "subslide"
    }
   },
   "source": [
    "## Function"
   ]
  },
  {
   "cell_type": "code",
   "execution_count": null,
   "id": "3c982892",
   "metadata": {
    "execution": {
     "iopub.execute_input": "2025-03-10T09:57:49.669644Z",
     "iopub.status.busy": "2025-03-10T09:57:49.669311Z",
     "iopub.status.idle": "2025-03-10T09:57:49.673174Z",
     "shell.execute_reply": "2025-03-10T09:57:49.672513Z"
    },
    "slideshow": {
     "slide_type": "fragment"
    }
   },
   "outputs": [],
   "source": [
    "def divisible(num):\n",
    "    if num % 18 == 0:\n",
    "        print(num, \"is divisible by 18\")\n",
    "    print(\"Goodbye\")"
   ]
  },
  {
   "cell_type": "code",
   "execution_count": null,
   "id": "6113fdde",
   "metadata": {
    "execution": {
     "iopub.execute_input": "2025-03-10T09:57:49.676076Z",
     "iopub.status.busy": "2025-03-10T09:57:49.675580Z",
     "iopub.status.idle": "2025-03-10T09:57:49.679885Z",
     "shell.execute_reply": "2025-03-10T09:57:49.678993Z"
    },
    "slideshow": {
     "slide_type": "fragment"
    }
   },
   "outputs": [],
   "source": [
    "divisible(53) "
   ]
  },
  {
   "cell_type": "markdown",
   "id": "2b762105",
   "metadata": {
    "slideshow": {
     "slide_type": "subslide"
    }
   },
   "source": [
    "### How to Calculate the circumference of three rectangles?"
   ]
  },
  {
   "cell_type": "markdown",
   "id": "05cb0cd4",
   "metadata": {
    "slideshow": {
     "slide_type": "subslide"
    }
   },
   "source": []
  },
  {
   "cell_type": "markdown",
   "id": "6d2cef07",
   "metadata": {
    "slideshow": {
     "slide_type": "subslide"
    }
   },
   "source": [
    "### <span style=\"color:red\">Code Duplication</span>"
   ]
  },
  {
   "cell_type": "markdown",
   "id": "35bb29f1",
   "metadata": {
    "slideshow": {
     "slide_type": "fragment"
    }
   },
   "source": [
    "#### Code duplication is bad"
   ]
  },
  {
   "cell_type": "markdown",
   "id": "52a76429",
   "metadata": {
    "slideshow": {
     "slide_type": "subslide"
    }
   },
   "source": [
    "- Duplicated bugs (harder to fix later)\n",
    "- Longer programs \n",
    "- Copy & Paste errors"
   ]
  },
  {
   "cell_type": "code",
   "execution_count": null,
   "id": "adf3e939",
   "metadata": {
    "execution": {
     "iopub.execute_input": "2025-03-10T09:57:49.683276Z",
     "iopub.status.busy": "2025-03-10T09:57:49.682800Z",
     "iopub.status.idle": "2025-03-10T09:57:49.686999Z",
     "shell.execute_reply": "2025-03-10T09:57:49.686200Z"
    },
    "slideshow": {
     "slide_type": "fragment"
    },
    "tags": [
     "raises-exception"
    ]
   },
   "outputs": [],
   "source": [
    "def is_square(width, height):\n",
    "    if width == height:\n",
    "        print(\"found a square\")\n",
    "    else:\n",
    "        print(\"found a rectangle\")\n",
    "    print(\"done\")"
   ]
  },
  {
   "cell_type": "code",
   "execution_count": null,
   "id": "30372fe8",
   "metadata": {
    "execution": {
     "iopub.execute_input": "2025-03-10T09:57:49.689777Z",
     "iopub.status.busy": "2025-03-10T09:57:49.689446Z",
     "iopub.status.idle": "2025-03-10T09:57:49.693398Z",
     "shell.execute_reply": "2025-03-10T09:57:49.692743Z"
    },
    "slideshow": {
     "slide_type": "fragment"
    }
   },
   "outputs": [],
   "source": [
    "is_square(4,4)"
   ]
  },
  {
   "cell_type": "markdown",
   "id": "03b945c4",
   "metadata": {
    "slideshow": {
     "slide_type": "subslide"
    }
   },
   "source": [
    "Rule of Thumb - Write the code once!\n",
    "- Use it several times with different arguments (Code reuse is encouraged)"
   ]
  },
  {
   "cell_type": "code",
   "execution_count": null,
   "id": "bb64710c",
   "metadata": {
    "execution": {
     "iopub.execute_input": "2025-03-10T09:57:49.696500Z",
     "iopub.status.busy": "2025-03-10T09:57:49.696054Z",
     "iopub.status.idle": "2025-03-10T09:57:49.700734Z",
     "shell.execute_reply": "2025-03-10T09:57:49.699896Z"
    },
    "slideshow": {
     "slide_type": "subslide"
    }
   },
   "outputs": [],
   "source": [
    "def which_triangle(a,b,c):\n",
    "    if a == b and b == c:\n",
    "        x=\"Equilateral triangle\"\n",
    "    elif a==b or a==c or b==c:\n",
    "        x=\"Isosceles triangle\"\n",
    "    else:\n",
    "        x=\"another kind of triangle\"\n",
    "    return x"
   ]
  },
  {
   "cell_type": "code",
   "execution_count": null,
   "id": "c07f39a1",
   "metadata": {
    "execution": {
     "iopub.execute_input": "2025-03-10T09:57:49.703758Z",
     "iopub.status.busy": "2025-03-10T09:57:49.703264Z",
     "iopub.status.idle": "2025-03-10T09:57:49.707248Z",
     "shell.execute_reply": "2025-03-10T09:57:49.706590Z"
    },
    "slideshow": {
     "slide_type": "fragment"
    }
   },
   "outputs": [],
   "source": [
    "result=which_triangle(4,4,4)\n",
    "print(result)"
   ]
  },
  {
   "cell_type": "markdown",
   "id": "12305d1a",
   "metadata": {
    "slideshow": {
     "slide_type": "slide"
    }
   },
   "source": [
    "\n",
    "### Function – Definition\n",
    "- A **named** sequence of statements that performs a **specific** task independently of the remaining code. "
   ]
  }
 ],
 "metadata": {
  "celltoolbar": "Slideshow",
  "kernelspec": {
   "display_name": "Python 3 (ipykernel)",
   "language": "python",
   "name": "python3"
  },
  "language_info": {
   "codemirror_mode": {
    "name": "ipython",
    "version": 3
   },
   "file_extension": ".py",
   "mimetype": "text/x-python",
   "name": "python",
   "nbconvert_exporter": "python",
   "pygments_lexer": "ipython3",
   "version": "3.11.5"
  }
 },
 "nbformat": 4,
 "nbformat_minor": 5
}
